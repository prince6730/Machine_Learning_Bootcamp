{
 "cells": [
  {
   "cell_type": "markdown",
   "id": "65c9e92e",
   "metadata": {},
   "source": [
    "# 1. Why are functions advantageous to have in your programs?"
   ]
  },
  {
   "cell_type": "markdown",
   "id": "f229a72e",
   "metadata": {},
   "source": [
    "By using the function, we can prevent repeating the same block of code again and again in our programs it means function reduce \n",
    "the need for duplicate code.\n",
    "It helps to divide the large programs into small groups so that we can read the code and debug the program faster and better."
   ]
  },
  {
   "cell_type": "markdown",
   "id": "d11fb0b8",
   "metadata": {},
   "source": [
    "# 2. When does the code in a function run: when it's specified or when it's called?"
   ]
  },
  {
   "cell_type": "markdown",
   "id": "13ed22cc",
   "metadata": {},
   "source": [
    "The code in a function excutes when function is called, it is not called when we defined"
   ]
  },
  {
   "cell_type": "markdown",
   "id": "db0ac9d6",
   "metadata": {},
   "source": [
    "# 3. What statement creates a function?"
   ]
  },
  {
   "cell_type": "markdown",
   "id": "7a184100",
   "metadata": {},
   "source": [
    "(def) statement is used to  create a function in python.\n",
    "\n",
    "For example:-"
   ]
  },
  {
   "cell_type": "code",
   "execution_count": 1,
   "id": "afab4e81",
   "metadata": {},
   "outputs": [],
   "source": [
    "def func():   \n",
    "    pass"
   ]
  },
  {
   "cell_type": "markdown",
   "id": "5f3f5aca",
   "metadata": {},
   "source": [
    "# 4. What is the difference between a function and a function call?"
   ]
  },
  {
   "cell_type": "markdown",
   "id": "67ecc677",
   "metadata": {},
   "source": [
    "A function is a block of code that does a particular operation and returns a result. It usually accepts inputs as parameters \n",
    "and returns a result. The parameters are not mandatory.\n",
    "\n",
    "A function call is the code used to pass control to a function."
   ]
  },
  {
   "cell_type": "markdown",
   "id": "9bda362b",
   "metadata": {},
   "source": [
    "# 5. How many global scopes are there in a Python program? How many local scopes?"
   ]
  },
  {
   "cell_type": "markdown",
   "id": "1357ed1a",
   "metadata": {},
   "source": [
    "There is one global scope, and a local scope is created whenever a function is called."
   ]
  },
  {
   "cell_type": "markdown",
   "id": "8846b8a8",
   "metadata": {},
   "source": [
    "# 6. What happens to variables in a local scope when the function call returns?"
   ]
  },
  {
   "cell_type": "markdown",
   "id": "2c23a257",
   "metadata": {},
   "source": [
    "When the execution of the function returns, the local variables are destroyed and all the variables in it are forgotten."
   ]
  },
  {
   "cell_type": "markdown",
   "id": "4a9a3492",
   "metadata": {},
   "source": [
    "# 7. What is the concept of a return value? Is it possible to have a return value in an expression?"
   ]
  },
  {
   "cell_type": "markdown",
   "id": "6093b2f2",
   "metadata": {},
   "source": [
    "Python return statement is used to return a value from a function like any value, a return value can be used as part of an expression."
   ]
  },
  {
   "cell_type": "markdown",
   "id": "ecc85d52",
   "metadata": {},
   "source": [
    "# 8. If a function does not have a return statement, what is the return value of a call to that function?"
   ]
  },
  {
   "cell_type": "markdown",
   "id": "db8b4604",
   "metadata": {},
   "source": [
    "If there is no return statement are there for a particular function then its return value is None."
   ]
  },
  {
   "cell_type": "markdown",
   "id": "e9e5f568",
   "metadata": {},
   "source": [
    "# 9. How do you make a function variable refer to the global variable?"
   ]
  },
  {
   "cell_type": "markdown",
   "id": "5ff91027",
   "metadata": {},
   "source": [
    "whenever we create a variable inside a function, that variable refers to local variable, and it can only be used inside that \n",
    "function not outside that particular function so to create a global variable inside a function then we can use the global keyword."
   ]
  },
  {
   "cell_type": "markdown",
   "id": "f027e2d2",
   "metadata": {},
   "source": [
    "# 10. What is the data type of None?"
   ]
  },
  {
   "cell_type": "markdown",
   "id": "fb5a43ef",
   "metadata": {},
   "source": [
    "The data type of None is NoneType."
   ]
  },
  {
   "cell_type": "markdown",
   "id": "6ee144bb",
   "metadata": {},
   "source": [
    "# 11. What does the sentence import areallyourpetsnamederic do?"
   ]
  },
  {
   "cell_type": "markdown",
   "id": "d7ebeee4",
   "metadata": {},
   "source": [
    "This import statement imports a module named areallyourpetsnamederic."
   ]
  },
  {
   "cell_type": "markdown",
   "id": "0365e9ab",
   "metadata": {},
   "source": [
    "# 12. If you had a bacon() feature in a spam module, what would you call it after importing spam?"
   ]
  },
  {
   "cell_type": "markdown",
   "id": "527361e9",
   "metadata": {},
   "source": [
    "This function can be called with spam.bacon()."
   ]
  },
  {
   "cell_type": "markdown",
   "id": "6d3fc1b0",
   "metadata": {},
   "source": [
    "# 13. What can you do to save a programme from crashing if it encounters an error?"
   ]
  },
  {
   "cell_type": "markdown",
   "id": "c398ac7e",
   "metadata": {},
   "source": [
    "Placed those line of code that might be in try clause so its handled the error properly."
   ]
  },
  {
   "cell_type": "markdown",
   "id": "071df761",
   "metadata": {},
   "source": [
    "# 14. What is the purpose of the try clause? What is the purpose of the except clause?"
   ]
  },
  {
   "cell_type": "markdown",
   "id": "a7c9b671",
   "metadata": {},
   "source": [
    "The code that could caused an error will go in the try clause\n",
    "\n",
    "And the code that we excuted if any error occured will go in the except clause"
   ]
  }
 ],
 "metadata": {
  "kernelspec": {
   "display_name": "Python 3",
   "language": "python",
   "name": "python3"
  },
  "language_info": {
   "codemirror_mode": {
    "name": "ipython",
    "version": 3
   },
   "file_extension": ".py",
   "mimetype": "text/x-python",
   "name": "python",
   "nbconvert_exporter": "python",
   "pygments_lexer": "ipython3",
   "version": "3.8.5"
  }
 },
 "nbformat": 4,
 "nbformat_minor": 5
}
