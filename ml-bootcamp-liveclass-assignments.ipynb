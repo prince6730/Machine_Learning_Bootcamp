{
 "cells": [
  {
   "cell_type": "markdown",
   "id": "e66fcddf",
   "metadata": {},
   "source": [
    "# 13/12/2022"
   ]
  },
  {
   "cell_type": "markdown",
   "id": "4f88dd2d",
   "metadata": {},
   "source": [
    "# WAP to accept two numbers from the user and display their sum"
   ]
  },
  {
   "cell_type": "code",
   "execution_count": 1,
   "id": "0130e0c0",
   "metadata": {},
   "outputs": [
    {
     "name": "stdout",
     "output_type": "stream",
     "text": [
      "Enter the first number: 56\n",
      "Enter the second number: 90\n",
      "Addition of 56 and 90 is 146\n"
     ]
    }
   ],
   "source": [
    "n1 = int(input(\"Enter the first number: \"))\n",
    "n2 = int(input(\"Enter the second number: \"))\n",
    "print(f\"Addition of {n1} and {n2} is {n1+n2}\")"
   ]
  },
  {
   "cell_type": "markdown",
   "id": "841262c5",
   "metadata": {},
   "source": [
    "# WAP to accept radius of a Circle from the user and calculate area and circumference"
   ]
  },
  {
   "cell_type": "code",
   "execution_count": 2,
   "id": "f3000b9a",
   "metadata": {},
   "outputs": [
    {
     "name": "stdout",
     "output_type": "stream",
     "text": [
      "Enter the radius: 5\n",
      "Enter the PI values: 3.14\n",
      "Area of circle is: 78.5\n",
      "Area of circumference: 31.400000000000002\n"
     ]
    }
   ],
   "source": [
    "r = int(input(\"Enter the radius: \"))\n",
    "pi = float(input(\"Enter the PI values: \"))\n",
    "print(\"Area of circle is:\", pi*r*r)\n",
    "print(\"Area of circumference:\", 2*pi*r)"
   ]
  },
  {
   "cell_type": "markdown",
   "id": "14f204b4",
   "metadata": {},
   "source": [
    "# WAP to accept roll number , grade and percentage as input from the user and display it back"
   ]
  },
  {
   "cell_type": "code",
   "execution_count": 3,
   "id": "4bf3c2ce",
   "metadata": {},
   "outputs": [
    {
     "name": "stdout",
     "output_type": "stream",
     "text": [
      "Enter the rollno: 25\n",
      "Enter the grade: A\n",
      "Enter the percentage: 79.34\n",
      "Rollno: 25\n",
      "Grade: A\n",
      "Percentage: 79.34\n"
     ]
    }
   ],
   "source": [
    "rollno = int(input(\"Enter the rollno: \"))\n",
    "grade = input(\"Enter the grade: \")\n",
    "percentage = float(input(\"Enter the percentage: \"))\n",
    "print(\"Rollno:\", rollno)\n",
    "print(\"Grade:\", grade)\n",
    "print(\"Percentage:\", percentage)"
   ]
  },
  {
   "cell_type": "markdown",
   "id": "c44a2b8f",
   "metadata": {},
   "source": [
    "# Write a program that asks the user to enter his/her name and age. Print out a message , displaying the user’s name along with the year in which they will turn 100 years old."
   ]
  },
  {
   "cell_type": "code",
   "execution_count": 4,
   "id": "d0fbaee9",
   "metadata": {},
   "outputs": [
    {
     "name": "stdout",
     "output_type": "stream",
     "text": [
      "Enter your name: Prince\n",
      "Enter your age: 22\n",
      "Year where person turn into 100: Prince  2100\n"
     ]
    }
   ],
   "source": [
    "name = input(\"Enter your name: \")\n",
    "age = int(input(\"Enter your age: \"))\n",
    "birthyear = 2022-age\n",
    "currentyear = birthyear+100\n",
    "print(\"Year where person turn into 100:\", name,\"\",currentyear)"
   ]
  },
  {
   "cell_type": "markdown",
   "id": "1bb3fe74",
   "metadata": {},
   "source": [
    "# Write a Python program which accepts the user's first and last name and print them in reverse order with a space between them."
   ]
  },
  {
   "cell_type": "code",
   "execution_count": 5,
   "id": "bd30bb75",
   "metadata": {},
   "outputs": [
    {
     "name": "stdout",
     "output_type": "stream",
     "text": [
      "Enter the first name: Rohan\n",
      "Enter the last name: Singh\n",
      "hgniS nahoR\n"
     ]
    }
   ],
   "source": [
    "firstname = input(\"Enter the first name: \")\n",
    "lastname = input(\"Enter the last name: \")\n",
    "fullname = firstname+ \" \" +lastname\n",
    "print(fullname[::-1])"
   ]
  },
  {
   "cell_type": "markdown",
   "id": "fee6afc0",
   "metadata": {},
   "source": [
    "# 15/12/2022"
   ]
  },
  {
   "cell_type": "markdown",
   "id": "980c5654",
   "metadata": {},
   "source": [
    "# WAP to accept an integer from the user and check whether it is an even or odd "
   ]
  },
  {
   "cell_type": "code",
   "execution_count": 6,
   "id": "4994ae95",
   "metadata": {},
   "outputs": [
    {
     "name": "stdout",
     "output_type": "stream",
     "text": [
      "Enter a number: 10\n",
      "10 is an even number\n"
     ]
    }
   ],
   "source": [
    "num = int(input(\"Enter a number: \"))\n",
    "if num % 2 == 0:\n",
    "    print(num, 'is an even number')\n",
    "else:\n",
    "    print(num, 'is an odd number')"
   ]
  },
  {
   "cell_type": "markdown",
   "id": "dfff7362",
   "metadata": {},
   "source": [
    "# WAP to accept a character from the user and check whether it is a capital letter or small letter. Assume user will input only alphabets"
   ]
  },
  {
   "cell_type": "code",
   "execution_count": 7,
   "id": "a0fa9e64",
   "metadata": {},
   "outputs": [
    {
     "name": "stdout",
     "output_type": "stream",
     "text": [
      "Enter the letter: A\n",
      "A is a capital letter\n"
     ]
    }
   ],
   "source": [
    "letter = input(\"Enter the letter: \")\n",
    "if (letter >= 'A' and letter <= 'Z'):\n",
    "    print(letter, 'is a capital letter')\n",
    "else:\n",
    "    print(letter, 'is a small letter')"
   ]
  },
  {
   "cell_type": "markdown",
   "id": "f6c9b4a3",
   "metadata": {},
   "source": [
    "# WAP to accept a character from the user and check whether it is a capital letter or small letter or a digit or some special symbol"
   ]
  },
  {
   "cell_type": "code",
   "execution_count": 8,
   "id": "fddf8f97",
   "metadata": {},
   "outputs": [
    {
     "name": "stdout",
     "output_type": "stream",
     "text": [
      "Enter the letter: #\n",
      "# is a some special symbol\n"
     ]
    }
   ],
   "source": [
    "letter = input(\"Enter the letter: \")\n",
    "if(ord(letter) >= 65 and ord(letter) <= 90):\n",
    "    print(letter, 'is a capital letter')\n",
    "elif(ord(letter) >= 97 and ord(letter) <= 122):\n",
    "    print(letter, 'is a small letter')\n",
    "elif(ord(letter) >= 48 and ord(letter) <= 57):\n",
    "    print(letter, 'is a digit')\n",
    "else:\n",
    "    print(letter, 'is a some special symbol')"
   ]
  },
  {
   "cell_type": "markdown",
   "id": "4333495a",
   "metadata": {},
   "source": [
    "# WAP to accept 3 integers from the user and without using any logical operator and cascading of relational operators , find out the greatest number amongst them"
   ]
  },
  {
   "cell_type": "code",
   "execution_count": 9,
   "id": "29eda2f1",
   "metadata": {},
   "outputs": [
    {
     "name": "stdout",
     "output_type": "stream",
     "text": [
      "Enter the first number: 45\n",
      "Enter the second number: 82\n",
      "Enter the third number: 29\n",
      "The greatest number is 82\n"
     ]
    }
   ],
   "source": [
    "n1 = int(input(\"Enter the first number: \"))\n",
    "n2 = int(input(\"Enter the second number: \"))\n",
    "n3 = int(input(\"Enter the third number: \"))\n",
    "\n",
    "if (n1 >= n2) and (n1 >= n3):\n",
    "    greatest_num = n1\n",
    "elif (n2 >= n1) and (n2 >= n3):\n",
    "    greatest_num = n2\n",
    "else:\n",
    "    greatest_num = n3\n",
    "\n",
    "print(\"The greatest number is\", greatest_num)"
   ]
  },
  {
   "cell_type": "markdown",
   "id": "485e8de4",
   "metadata": {},
   "source": [
    "# WAP to accept a year from the user and check whether it is a leap year or not."
   ]
  },
  {
   "cell_type": "code",
   "execution_count": 10,
   "id": "8bd1cf28",
   "metadata": {},
   "outputs": [
    {
     "name": "stdout",
     "output_type": "stream",
     "text": [
      "Enter the year: 2022\n",
      "2022 is not a leap year\n"
     ]
    }
   ],
   "source": [
    "year = int(input(\"Enter the year: \"))\n",
    "if (((year % 4 == 0) and (year % 100!= 0)) or (year%400 == 0)):\n",
    "    print(year, \"is leap year\")\n",
    "else:\n",
    "    print(year, \"is not a leap year\")"
   ]
  },
  {
   "cell_type": "markdown",
   "id": "7ddccbef",
   "metadata": {},
   "source": [
    "You have to develop a number guessing game. Following are the steps needed:  \n",
    "\n",
    "At first , the program will generate a random integer secretly.\n",
    "\n",
    "Now it will ask the user to guess that number .\n",
    "\n",
    "If the user guessed it correctly then the program prints “Congratulations! You guessed it right” .\n",
    "\n",
    "But if the number guessed by the user is larger than the secret number then program should print “Number too large” and , if the number guessed by the user is smaller than the secret number then the program should print “Number too small” \n",
    "\n",
    "This should continue until the user guesses the number correctly or quits .\n",
    "\n",
    "If the user wants to quit in between he will have to type 0 or negative number\n"
   ]
  },
  {
   "cell_type": "code",
   "execution_count": 11,
   "id": "79571bb2",
   "metadata": {},
   "outputs": [
    {
     "name": "stdout",
     "output_type": "stream",
     "text": [
      "Enter the guess number: 32\n",
      "Number too large\n"
     ]
    }
   ],
   "source": [
    "import secrets\n",
    "secret_number  = secrets.randbelow(50)\n",
    "\n",
    "guess_number = int(input(\"Enter the guess number: \"))\n",
    "\n",
    "if (guess_number ==  secret_number):\n",
    "    print(\"Congratulations! You guessed it right\")\n",
    "    \n",
    "elif (guess_number > secret_number):\n",
    "    print(\"Number too large\")\n",
    "    \n",
    "elif (guess_number < secret_number):\n",
    "    print(\"Number too small\")\n",
    "    \n",
    "elif (guess_number == 0 and len(guess_number) < 1):\n",
    "    print(\"Quit\")"
   ]
  },
  {
   "cell_type": "markdown",
   "id": "8e41fb64",
   "metadata": {},
   "source": [
    "# Write a program to accept a string from the user and display it vertically but don’t display the vowels in it."
   ]
  },
  {
   "cell_type": "code",
   "execution_count": 12,
   "id": "996b4a96",
   "metadata": {},
   "outputs": [
    {
     "name": "stdout",
     "output_type": "stream",
     "text": [
      "Enter your text: Prince\n",
      "P\n",
      "r\n",
      "n\n",
      "c\n"
     ]
    }
   ],
   "source": [
    "text = input(\"Enter your text: \")\n",
    "\n",
    "i = 0\n",
    "while i < len(text):\n",
    "    if text[i] not in 'aeiouAEIOU':\n",
    "        print(text[i]) \n",
    "    i = i + 1"
   ]
  },
  {
   "cell_type": "markdown",
   "id": "b28bb04d",
   "metadata": {},
   "source": [
    "# Write a program to continuously accept integers from the user until the user types 0 and as soon as 0 is entered display sum of all the nos entered before 0"
   ]
  },
  {
   "cell_type": "code",
   "execution_count": 13,
   "id": "f1a25743",
   "metadata": {},
   "outputs": [
    {
     "name": "stdout",
     "output_type": "stream",
     "text": [
      "Enter a Integer or enter 0 to Quit: 34\n",
      "Enter a Integer or enter 0 to Quit: 56\n",
      "Enter a Integer or enter 0 to Quit: 78\n",
      "Enter a Integer or enter 0 to Quit: 23\n",
      "Enter a Integer or enter 0 to Quit: 0\n",
      "Sum of all numbers : 191\n"
     ]
    }
   ],
   "source": [
    "sum_of_all = 0 \n",
    "while True:  \n",
    "    num = int(input('Enter a Integer or enter 0 to Quit: '))\n",
    "    if num == 0:\n",
    "        break\n",
    "    sum_of_all += num\n",
    "print(f'Sum of all numbers : {sum_of_all}') "
   ]
  },
  {
   "cell_type": "markdown",
   "id": "cd2f9d7f",
   "metadata": {},
   "source": [
    "# Write a program to accept an integer from the user and display the sum of all the numbers from 1 to that number."
   ]
  },
  {
   "cell_type": "code",
   "execution_count": 14,
   "id": "235d94cb",
   "metadata": {},
   "outputs": [
    {
     "name": "stdout",
     "output_type": "stream",
     "text": [
      "Enter a number: 15\n",
      "The sum of all numbers from 1 to the given number is:  120\n"
     ]
    }
   ],
   "source": [
    "num = int(input(\"Enter a number: \"))\n",
    "sum = 0\n",
    "for i in range(num + 1):\n",
    "    sum += i\n",
    "print(\"The sum of all numbers from 1 to the given number is: \", sum)"
   ]
  },
  {
   "cell_type": "markdown",
   "id": "f63a4755",
   "metadata": {},
   "source": [
    "# Write a program to accept an integer from the user and calculate its factorial"
   ]
  },
  {
   "cell_type": "code",
   "execution_count": 15,
   "id": "753c13c1",
   "metadata": {},
   "outputs": [
    {
     "name": "stdout",
     "output_type": "stream",
     "text": [
      "Enter a number: 5\n",
      "The factorial of 5 is 120\n"
     ]
    }
   ],
   "source": [
    "def factorial(n):  \n",
    "    if n == 1:  \n",
    "        return n  \n",
    "    else:  \n",
    "        return n*factorial(n-1)  \n",
    "\n",
    "num = int(input(\"Enter a number: \"))  \n",
    "\n",
    "if num < 0:  \n",
    "    print(\"Sorry, factorial does not exist for negative numbers\")  \n",
    "elif num == 0: \n",
    "    print(\"The factorial of 0 is 1\")   \n",
    "else:  \n",
    "    print(f\"The factorial of {num} is {factorial(num)}\")  "
   ]
  },
  {
   "cell_type": "markdown",
   "id": "e1df85d0",
   "metadata": {},
   "source": [
    "# Write a program to print the following pattern "
   ]
  },
  {
   "cell_type": "code",
   "execution_count": 16,
   "id": "853d41fa",
   "metadata": {},
   "outputs": [
    {
     "name": "stdout",
     "output_type": "stream",
     "text": [
      "Enter a number: 3\n",
      "***\n",
      "***\n",
      "***\n"
     ]
    }
   ],
   "source": [
    "n = int(input(\"Enter a number: \"))\n",
    "for i in range(n):\n",
    "    for j in range(n):\n",
    "        print(\"*\",end=\"\")\n",
    "    print()"
   ]
  },
  {
   "cell_type": "markdown",
   "id": "1004310c",
   "metadata": {},
   "source": [
    "# Write a program to print the following pattern "
   ]
  },
  {
   "cell_type": "code",
   "execution_count": 17,
   "id": "1ec9c528",
   "metadata": {},
   "outputs": [
    {
     "name": "stdout",
     "output_type": "stream",
     "text": [
      "Enter a number: 4\n",
      "*\n",
      "**\n",
      "***\n",
      "****\n"
     ]
    }
   ],
   "source": [
    "n = int(input(\"Enter a number: \"))\n",
    "for i in range(n):\n",
    "    for j in range(i+1):\n",
    "        print(\"*\",end=\"\")\n",
    "    print()"
   ]
  },
  {
   "cell_type": "markdown",
   "id": "f9b91560",
   "metadata": {},
   "source": [
    "# Write a program to print the following pattern "
   ]
  },
  {
   "cell_type": "code",
   "execution_count": 18,
   "id": "3b443f53",
   "metadata": {},
   "outputs": [
    {
     "name": "stdout",
     "output_type": "stream",
     "text": [
      "Enter a number: 4\n",
      "****\n",
      "***\n",
      "**\n",
      "*\n"
     ]
    }
   ],
   "source": [
    "n = int(input(\"Enter a number: \"))\n",
    "for i in range(n):\n",
    "    for j in range(i, n):\n",
    "        print(\"*\",end=\"\")\n",
    "    print()"
   ]
  },
  {
   "cell_type": "markdown",
   "id": "2c026ac8",
   "metadata": {},
   "source": [
    "# Write a program to accept an integer from the user and display all the numbers from 1 to that number. Repeat the process until the user enters 0."
   ]
  }
 ],
 "metadata": {
  "kernelspec": {
   "display_name": "Python 3",
   "language": "python",
   "name": "python3"
  },
  "language_info": {
   "codemirror_mode": {
    "name": "ipython",
    "version": 3
   },
   "file_extension": ".py",
   "mimetype": "text/x-python",
   "name": "python",
   "nbconvert_exporter": "python",
   "pygments_lexer": "ipython3",
   "version": "3.8.5"
  }
 },
 "nbformat": 4,
 "nbformat_minor": 5
}
