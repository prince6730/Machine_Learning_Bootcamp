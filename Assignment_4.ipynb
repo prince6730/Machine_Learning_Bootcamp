{
 "cells": [
  {
   "cell_type": "markdown",
   "id": "36fcc03c",
   "metadata": {},
   "source": [
    "# 1. What exactly is [] ?"
   ]
  },
  {
   "cell_type": "markdown",
   "id": "e508cdfc",
   "metadata": {},
   "source": [
    "This is empty list in python."
   ]
  },
  {
   "cell_type": "markdown",
   "id": "749ff4a3",
   "metadata": {},
   "source": [
    "# 2. In a list of values stored in a variable called spam, how would you assign the value &#39;hello&#39; as the third value? (Assume [2, 4, 6, 8, 10] are in spam.)"
   ]
  },
  {
   "cell_type": "code",
   "execution_count": 1,
   "id": "7b966d85",
   "metadata": {},
   "outputs": [
    {
     "data": {
      "text/plain": [
       "[2, 4, 'hello', 6, 8, 10]"
      ]
     },
     "execution_count": 1,
     "metadata": {},
     "output_type": "execute_result"
    }
   ],
   "source": [
    "spam = [2, 4, 6, 8, 10]\n",
    "spam.insert(2,\"hello\")\n",
    "spam"
   ]
  },
  {
   "cell_type": "markdown",
   "id": "dbbf60ec",
   "metadata": {},
   "source": [
    "# Let's pretend the spam includes the list ['a','b','c','d'] for the next three queries."
   ]
  },
  {
   "cell_type": "markdown",
   "id": "f9833a54",
   "metadata": {},
   "source": [
    "# 3. What is the value of spam[int(int('3' * 2) / 11)]?"
   ]
  },
  {
   "cell_type": "code",
   "execution_count": 2,
   "id": "2a1b9c7e",
   "metadata": {},
   "outputs": [
    {
     "data": {
      "text/plain": [
       "'d'"
      ]
     },
     "execution_count": 2,
     "metadata": {},
     "output_type": "execute_result"
    }
   ],
   "source": [
    "spam = ['a', 'b','c','d']\n",
    "spam[int(int('3' * 2) / 11)]"
   ]
  },
  {
   "cell_type": "markdown",
   "id": "eb6135c1",
   "metadata": {},
   "source": [
    "# 4. What is the value of spam[-1]?"
   ]
  },
  {
   "cell_type": "code",
   "execution_count": 3,
   "id": "50643b00",
   "metadata": {},
   "outputs": [
    {
     "data": {
      "text/plain": [
       "'d'"
      ]
     },
     "execution_count": 3,
     "metadata": {},
     "output_type": "execute_result"
    }
   ],
   "source": [
    "spam[-1]"
   ]
  },
  {
   "cell_type": "markdown",
   "id": "fe3cc0a4",
   "metadata": {},
   "source": [
    "# 5. What is the value of spam[:2]?"
   ]
  },
  {
   "cell_type": "code",
   "execution_count": 4,
   "id": "6b9faee4",
   "metadata": {},
   "outputs": [
    {
     "data": {
      "text/plain": [
       "'c'"
      ]
     },
     "execution_count": 4,
     "metadata": {},
     "output_type": "execute_result"
    }
   ],
   "source": [
    "spam[-2]"
   ]
  },
  {
   "cell_type": "markdown",
   "id": "964bf399",
   "metadata": {},
   "source": [
    "# Let's pretend the bacon includes the list [3.14,'cat',11,'cat',True] for the next three queries."
   ]
  },
  {
   "cell_type": "code",
   "execution_count": 5,
   "id": "0efe123b",
   "metadata": {},
   "outputs": [],
   "source": [
    "bacon = [3.14,'cat',11,'cat',True]"
   ]
  },
  {
   "cell_type": "markdown",
   "id": "959f4e8c",
   "metadata": {},
   "source": [
    "# 6. What is the value of bacon.index('cat')?"
   ]
  },
  {
   "cell_type": "code",
   "execution_count": 6,
   "id": "7e1cb940",
   "metadata": {},
   "outputs": [
    {
     "data": {
      "text/plain": [
       "1"
      ]
     },
     "execution_count": 6,
     "metadata": {},
     "output_type": "execute_result"
    }
   ],
   "source": [
    "bacon.index('cat')"
   ]
  },
  {
   "cell_type": "markdown",
   "id": "fd030e95",
   "metadata": {},
   "source": [
    "# 7. How does bacon.append(99) change the look of the list value in bacon?"
   ]
  },
  {
   "cell_type": "code",
   "execution_count": 7,
   "id": "37a6562f",
   "metadata": {},
   "outputs": [],
   "source": [
    "bacon.append(99)"
   ]
  },
  {
   "cell_type": "code",
   "execution_count": 8,
   "id": "857c4a68",
   "metadata": {},
   "outputs": [
    {
     "data": {
      "text/plain": [
       "[3.14, 'cat', 11, 'cat', True, 99]"
      ]
     },
     "execution_count": 8,
     "metadata": {},
     "output_type": "execute_result"
    }
   ],
   "source": [
    "bacon"
   ]
  },
  {
   "cell_type": "markdown",
   "id": "f0c365b1",
   "metadata": {},
   "source": [
    "# 8. How does bacon.remove('cat') change the look of the list in bacon?"
   ]
  },
  {
   "cell_type": "code",
   "execution_count": 9,
   "id": "e165bedb",
   "metadata": {},
   "outputs": [
    {
     "data": {
      "text/plain": [
       "[3.14, 11, 'cat', True, 99]"
      ]
     },
     "execution_count": 9,
     "metadata": {},
     "output_type": "execute_result"
    }
   ],
   "source": [
    "bacon.remove('cat')\n",
    "bacon"
   ]
  },
  {
   "cell_type": "markdown",
   "id": "fda9f5b4",
   "metadata": {},
   "source": [
    "# 9. What are the list concatenation and list replication operators?"
   ]
  },
  {
   "cell_type": "markdown",
   "id": "f7dfcba5",
   "metadata": {},
   "source": [
    "( + ) is list concatenation operator is an operation where the elements of one list are added at the end of another list     \n",
    "( * ) is list replication operator is repeat each element in the list amount of times."
   ]
  },
  {
   "cell_type": "code",
   "execution_count": 10,
   "id": "a259e217",
   "metadata": {},
   "outputs": [
    {
     "data": {
      "text/plain": [
       "[2, 4, 5, 6, 6, 8, 1, 2]"
      ]
     },
     "execution_count": 10,
     "metadata": {},
     "output_type": "execute_result"
    }
   ],
   "source": [
    "# list concatenation operator\n",
    "l1 = [2,4,5,6]\n",
    "l2 = [6,8,1,2]\n",
    "l1 + l2"
   ]
  },
  {
   "cell_type": "code",
   "execution_count": 11,
   "id": "9d711b37",
   "metadata": {},
   "outputs": [
    {
     "data": {
      "text/plain": [
       "[1, 2, 3, 4, 1, 2, 3, 4, 1, 2, 3, 4]"
      ]
     },
     "execution_count": 11,
     "metadata": {},
     "output_type": "execute_result"
    }
   ],
   "source": [
    "# list replication operators\n",
    "l1 = [1,2,3,4]\n",
    "l1 * 3"
   ]
  },
  {
   "cell_type": "markdown",
   "id": "108a287f",
   "metadata": {},
   "source": [
    "# 10. What is difference between the list methods append() and insert()?"
   ]
  },
  {
   "cell_type": "markdown",
   "id": "1969eecf",
   "metadata": {},
   "source": [
    "append() :- append() method add an element at the end of the list.    \n",
    "insert() :- insert() method add an element at the specific position in the list."
   ]
  },
  {
   "cell_type": "code",
   "execution_count": 12,
   "id": "611357ed",
   "metadata": {},
   "outputs": [],
   "source": [
    "# append() method\n",
    "l1 = [10,20,30,40]"
   ]
  },
  {
   "cell_type": "code",
   "execution_count": 13,
   "id": "643b710e",
   "metadata": {},
   "outputs": [
    {
     "data": {
      "text/plain": [
       "[10, 20, 30, 40, 50]"
      ]
     },
     "execution_count": 13,
     "metadata": {},
     "output_type": "execute_result"
    }
   ],
   "source": [
    "l1.append(50)\n",
    "l1"
   ]
  },
  {
   "cell_type": "code",
   "execution_count": 14,
   "id": "bf489151",
   "metadata": {},
   "outputs": [],
   "source": [
    "# insert() method\n",
    "l1 = [10,20,30,40]"
   ]
  },
  {
   "cell_type": "code",
   "execution_count": 15,
   "id": "f0a50c37",
   "metadata": {},
   "outputs": [
    {
     "data": {
      "text/plain": [
       "[10, 20, 'python', 30, 40]"
      ]
     },
     "execution_count": 15,
     "metadata": {},
     "output_type": "execute_result"
    }
   ],
   "source": [
    "# inserting an element at 3rd postion in the list\n",
    "l1.insert(2,'python')\n",
    "l1"
   ]
  },
  {
   "cell_type": "markdown",
   "id": "bc3fae09",
   "metadata": {},
   "source": [
    "# 11. What are the two methods for removing items from a list?"
   ]
  },
  {
   "cell_type": "markdown",
   "id": "ef479628",
   "metadata": {},
   "source": [
    "pop() :- It removes the element at the specified position   \n",
    "remove() :- It removes the first item with the specified value"
   ]
  },
  {
   "cell_type": "code",
   "execution_count": 16,
   "id": "ae5f7749",
   "metadata": {},
   "outputs": [
    {
     "data": {
      "text/plain": [
       "[10, 'cat', 'orange', 40, 50]"
      ]
     },
     "execution_count": 16,
     "metadata": {},
     "output_type": "execute_result"
    }
   ],
   "source": [
    "# remove() method\n",
    "l1 = [10,20,'cat','orange',40,50]\n",
    "l1.remove(20)\n",
    "l1"
   ]
  },
  {
   "cell_type": "code",
   "execution_count": 17,
   "id": "6cf563c9",
   "metadata": {},
   "outputs": [
    {
     "data": {
      "text/plain": [
       "[10, 20, 'cat', 'orange', 40]"
      ]
     },
     "execution_count": 17,
     "metadata": {},
     "output_type": "execute_result"
    }
   ],
   "source": [
    "# pop() method\n",
    "l1 = [10,20,'cat','orange',40,50]\n",
    "l1.pop()\n",
    "l1"
   ]
  },
  {
   "cell_type": "markdown",
   "id": "d91f4efe",
   "metadata": {},
   "source": [
    "# 12. Describe how list values and string values are identical."
   ]
  },
  {
   "cell_type": "markdown",
   "id": "97235192",
   "metadata": {},
   "source": [
    "Both lists and strings can be passed to len()  \n",
    "They Have indexes and slices   \n",
    "It Can be used in for loops  \n",
    "It Can be concatenated or replicated  \n",
    "It Can be used with the in and not in operators  "
   ]
  },
  {
   "cell_type": "markdown",
   "id": "77906062",
   "metadata": {},
   "source": [
    "# 13. What's the difference between tuples and lists?"
   ]
  },
  {
   "cell_type": "markdown",
   "id": "4bf315b9",
   "metadata": {},
   "source": [
    "Lists are mutuable.  \n",
    "Lists are enclosed with square brackets [].  \n",
    "Lists has more method as we compared with tuples.     \n",
    "\n",
    "Tuples are immutable.   \n",
    "Tuples are enclosed with parenthesis ().  \n",
    "Tuples has less method as we comapred with lists."
   ]
  },
  {
   "cell_type": "markdown",
   "id": "a55f80d9",
   "metadata": {},
   "source": [
    "# 14. How do you type a tuple value that only contains the integer 42?"
   ]
  },
  {
   "cell_type": "code",
   "execution_count": 18,
   "id": "a876057a",
   "metadata": {},
   "outputs": [
    {
     "data": {
      "text/plain": [
       "(42,)"
      ]
     },
     "execution_count": 18,
     "metadata": {},
     "output_type": "execute_result"
    }
   ],
   "source": [
    "tuple = (42,)\n",
    "tuple"
   ]
  },
  {
   "cell_type": "markdown",
   "id": "165c3613",
   "metadata": {},
   "source": [
    "# 15. How do you get a list value's tuple form? How do you get a tuple value's list form?"
   ]
  },
  {
   "cell_type": "markdown",
   "id": "3f338a6e",
   "metadata": {},
   "source": [
    "By using tuple() and list() functions, respectively."
   ]
  },
  {
   "cell_type": "code",
   "execution_count": 19,
   "id": "2e9af748",
   "metadata": {},
   "outputs": [],
   "source": [
    "l1 = [1,2,3,4]\n",
    "t1 = tuple(l1)\n",
    "t1"
   ]
  },
  {
   "cell_type": "code",
   "execution_count": 20,
   "id": "7efd3340",
   "metadata": {},
   "outputs": [],
   "source": [
    "(1, 2, 3, 4)"
   ]
  },
  {
   "cell_type": "code",
   "execution_count": 21,
   "id": "27ce213d",
   "metadata": {},
   "outputs": [
    {
     "data": {
      "text/plain": [
       "[2, 4, 5, 6]"
      ]
     },
     "execution_count": 21,
     "metadata": {},
     "output_type": "execute_result"
    }
   ],
   "source": [
    "t1 = (2,4,5,6)\n",
    "t = list(t1)\n",
    "t"
   ]
  },
  {
   "cell_type": "markdown",
   "id": "8b2af067",
   "metadata": {},
   "source": [
    "# 16. Variables that \"contain\" list values are not necessarily lists themselves. Instead, what do they contain?"
   ]
  },
  {
   "cell_type": "markdown",
   "id": "fd5195d0",
   "metadata": {},
   "source": [
    "They contain references to list values"
   ]
  },
  {
   "cell_type": "markdown",
   "id": "a06c6e2f",
   "metadata": {},
   "source": [
    "# 17. How do you distinguish between copy.copy() and copy.deepcopy()?"
   ]
  },
  {
   "cell_type": "markdown",
   "id": "b4613966",
   "metadata": {},
   "source": [
    "The copy.copy() function will do a shallow copy of a list.   \n",
    "The copy.deepcopy() function will do a deep copy of a list. That is, only copy.deepcopy() will duplicate any lists inside the list."
   ]
  }
 ],
 "metadata": {
  "kernelspec": {
   "display_name": "Python 3",
   "language": "python",
   "name": "python3"
  },
  "language_info": {
   "codemirror_mode": {
    "name": "ipython",
    "version": 3
   },
   "file_extension": ".py",
   "mimetype": "text/x-python",
   "name": "python",
   "nbconvert_exporter": "python",
   "pygments_lexer": "ipython3",
   "version": "3.8.5"
  }
 },
 "nbformat": 4,
 "nbformat_minor": 5
}
