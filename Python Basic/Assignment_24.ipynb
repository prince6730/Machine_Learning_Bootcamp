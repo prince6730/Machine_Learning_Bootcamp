{
 "cells": [
  {
   "cell_type": "markdown",
   "id": "ea528909",
   "metadata": {},
   "source": [
    "#### 1. What is the relationship between def statements and lambda expressions ?"
   ]
  },
  {
   "cell_type": "markdown",
   "id": "f5800343",
   "metadata": {},
   "source": [
    "In Python, both def statements and lambda expressions are used to create functions, but they have some key differences.\n",
    "\n",
    "\n",
    "1) With def, you define a function using the def keyword followed by the function name, parameters, and a block of code enclosed\n",
    "   in curly braces. It's typically used for creating named functions.     \n",
    "   With lambda, you create anonymous functions using the lambda keyword, which takes a list of parameters and an expression. \n",
    "   The result of the expression is the return value.\n",
    "\n",
    "2) def statements are used to define functions that are intended for reuse throughout your code. They're more flexible and can \n",
    "   contain multiple statements and complex logic.  \n",
    "   lambda expressions are mainly used for creating small, inline functions where defining a named function is unnecessary or   \n",
    "   cumbersome. They're often used in functional programming constructs like map, filter, and reduce, or in situations where a \n",
    "   simple function is needed as an argument to another function.   \n",
    "\n",
    "3) def statements allow for the use of descriptive function names, making the code more readable and understandable.   \n",
    "   lambda expressions create anonymous functions, which can make the code harder to read, especially if the expression is complex.\n",
    "\n",
    "\n",
    "4) Functions defined with def can contain multiple statements and have access to variables in the enclosing scope.    \n",
    "   lambda functions are restricted to a single expression and can only access variables in their own scope and the global scope."
   ]
  },
  {
   "cell_type": "markdown",
   "id": "9b52ae86",
   "metadata": {},
   "source": [
    "#### 2. What is the benefit of lambda ?"
   ]
  },
  {
   "cell_type": "markdown",
   "id": "59621e4c",
   "metadata": {},
   "source": [
    "1) Conciseness: Lambda functions allow you to write small, inline functions without needing to define them using the def keyword. This can make your code more concise and readable, especially for simple operations.\n",
    "\n",
    "2) Functional Programming: Lambdas are commonly used in functional programming paradigms where functions are treated as first-class citizens. They can be passed as arguments to higher-order functions like map(), filter(), and reduce().\n",
    "\n",
    "3) Anonymous Functions: Lambda functions are anonymous, meaning they don't require a name. This is useful when you need a function for a short period of time and don't want to define a named function.\n",
    "\n",
    "4) Readability: While they can make code more concise, excessive use of lambda functions might decrease readability, particularly for complex operations. However, for simple transformations or filtering operations, lambda functions can enhance readability by keeping the code closer to the data it operates on."
   ]
  },
  {
   "cell_type": "markdown",
   "id": "73586450",
   "metadata": {},
   "source": [
    "#### 3. Compare and contrast map, filter, and reduce."
   ]
  },
  {
   "cell_type": "markdown",
   "id": "f050df15",
   "metadata": {},
   "source": [
    "1) Map and filter return iterators containing transformed or filtered items respectively, while reduce returns a single value.          \n",
    "2) Map and filter apply a function to each item of the iterable independently, whereas reduce applies a function to pairs of items cumulatively until it reduces the iterable to a single value.         \n",
    "3) Map and filter are more suitable for transforming or filtering data, while reduce is used for aggregating or combining data into a single result."
   ]
  },
  {
   "cell_type": "markdown",
   "id": "854690ac",
   "metadata": {},
   "source": [
    "#### 4. What are function annotations, and how are they used ?"
   ]
  },
  {
   "cell_type": "markdown",
   "id": "a5494e7f",
   "metadata": {},
   "source": [
    "1) Function annotations in Python are a way to attach metadata information to the parameters and return value of functions. They are specified using colons (:) after the parameter name or return arrow (->) after the parameter list.       \n",
    "\n",
    "2) Function annotations can be of any data type or even custom classes. Some common use cases include indicating parameter or return value types, documenting expected input/output, or specifying additional information for parameters and return values."
   ]
  },
  {
   "cell_type": "code",
   "execution_count": 1,
   "id": "700c9d15",
   "metadata": {},
   "outputs": [
    {
     "name": "stdout",
     "output_type": "stream",
     "text": [
      "Hello, Alice!\n"
     ]
    }
   ],
   "source": [
    "# Example:- \n",
    "\n",
    "def greet(name: str) -> str:\n",
    "    return f\"Hello, {name}!\"\n",
    "\n",
    "print(greet(\"Alice\"))"
   ]
  },
  {
   "cell_type": "markdown",
   "id": "5dc08630",
   "metadata": {},
   "source": [
    "In above example, str indicates that the name parameter should be a string, and -> str indicates that the function returns a string."
   ]
  },
  {
   "cell_type": "markdown",
   "id": "f84e0092",
   "metadata": {},
   "source": [
    "#### 5. What are recursive functions, and how are they used ?"
   ]
  },
  {
   "cell_type": "markdown",
   "id": "a6641865",
   "metadata": {},
   "source": [
    "Recursive functions in Python are functions that call themselves in order to solve a problem. They are particularly useful when a problem can be broken down into smaller, similar sub-problems. The basic idea is to solve the base case (the simplest possible form of the problem) directly, and then recursively call the function with a modified version of the problem until the base case is reached."
   ]
  },
  {
   "cell_type": "code",
   "execution_count": 2,
   "id": "9fca3564",
   "metadata": {},
   "outputs": [],
   "source": [
    "# Example:- \n",
    "\n",
    "def factorial(n):\n",
    "    if n == 1 or n == 0:\n",
    "        return 1\n",
    "    else:\n",
    "        return n * factorial(n-1)"
   ]
  },
  {
   "cell_type": "code",
   "execution_count": 3,
   "id": "4871e2ef",
   "metadata": {},
   "outputs": [
    {
     "data": {
      "text/plain": [
       "120"
      ]
     },
     "execution_count": 3,
     "metadata": {},
     "output_type": "execute_result"
    }
   ],
   "source": [
    "factorial(5)"
   ]
  },
  {
   "cell_type": "markdown",
   "id": "6d70c951",
   "metadata": {},
   "source": [
    "#### 6. What are some general design guidelines for coding functions ?"
   ]
  },
  {
   "cell_type": "markdown",
   "id": "68d12be3",
   "metadata": {},
   "source": [
    "1) Function Naming: Choose descriptive and concise names that reflect the purpose of the function. Use lowercase letters and underscores to separate words (snake_case).\n",
    "\n",
    "2) Function Length: Keep functions short and focused on a single task. If a function is too long, consider breaking it into smaller functions.\n",
    "\n",
    "3) Function Documentation: Provide clear and concise docstrings to explain what the function does, its parameters, return values, and any side effects.\n",
    "\n",
    "4) Parameter Passing: Pass parameters as arguments to functions rather than relying on global variables. This improves readability and makes functions more reusable.\n",
    "\n",
    "5) Return Values: Functions should return a meaningful value, if applicable. Avoid using return values for control flow (use exceptions or flags instead).\n",
    "\n",
    "6) Error Handling: Handle errors gracefully within functions. Use exceptions to signal and handle errors rather than returning special error codes.\n",
    "\n",
    "7) Side Effects: Minimize side effects within functions. Functions should ideally operate only on their inputs and produce outputs, without modifying global variables or affecting external state.\n",
    "\n",
    "8) Default Arguments: Use default arguments sparingly, as they can make functions less predictable. Only use them for parameters with sensible default values."
   ]
  },
  {
   "cell_type": "markdown",
   "id": "6e0c8b8d",
   "metadata": {},
   "source": [
    "#### 7. Name three or more ways that functions can communicate results to a caller."
   ]
  },
  {
   "cell_type": "markdown",
   "id": "ae11a222",
   "metadata": {},
   "source": [
    "1) Return Statement: The most common way for a function to communicate a result is by using the return statement. This allows the function to send back a value to the caller."
   ]
  },
  {
   "cell_type": "code",
   "execution_count": 4,
   "id": "75932d01",
   "metadata": {},
   "outputs": [
    {
     "name": "stdout",
     "output_type": "stream",
     "text": [
      "15\n"
     ]
    }
   ],
   "source": [
    "# Example:- \n",
    "\n",
    "def add(a,b):\n",
    "    return a+b\n",
    "\n",
    "result = add(5,10)\n",
    "print(result)"
   ]
  },
  {
   "cell_type": "markdown",
   "id": "3318a778",
   "metadata": {},
   "source": [
    "2) Print Statement: Although not recommended for returning values, functions can also communicate results by printing them directly to the console."
   ]
  },
  {
   "cell_type": "code",
   "execution_count": 5,
   "id": "15690868",
   "metadata": {},
   "outputs": [
    {
     "name": "stdout",
     "output_type": "stream",
     "text": [
      "Hello John\n"
     ]
    }
   ],
   "source": [
    "# Example:-\n",
    "\n",
    "def greet(name):\n",
    "    print(\"Hello\", name)\n",
    "greet('John')"
   ]
  },
  {
   "cell_type": "markdown",
   "id": "4e22dca4",
   "metadata": {},
   "source": [
    "3) Modifying Mutable Objects: Functions can modify mutable objects (such as lists or dictionaries) and communicate the results by changing the state of those objects."
   ]
  },
  {
   "cell_type": "code",
   "execution_count": 6,
   "id": "20b12840",
   "metadata": {},
   "outputs": [
    {
     "name": "stdout",
     "output_type": "stream",
     "text": [
      "[1, 2, 3, 4]\n"
     ]
    }
   ],
   "source": [
    "# Example:-\n",
    "\n",
    "def my_list(list1):\n",
    "    list1.append(4)\n",
    "    list1.sort()\n",
    "\n",
    "num = [2, 1, 3]\n",
    "my_list(num)\n",
    "print(num)"
   ]
  },
  {
   "cell_type": "markdown",
   "id": "bf483948",
   "metadata": {},
   "source": [
    "4) Global Variables: Although not recommended due to potential side effects and lack of clarity, functions can communicate results by modifying global variables."
   ]
  },
  {
   "cell_type": "code",
   "execution_count": 7,
   "id": "6dd360c2",
   "metadata": {},
   "outputs": [
    {
     "name": "stdout",
     "output_type": "stream",
     "text": [
      "42\n"
     ]
    }
   ],
   "source": [
    "# Example:-\n",
    "\n",
    "result = None\n",
    "\n",
    "def calculate():\n",
    "    global result\n",
    "    result = 42\n",
    "\n",
    "calculate()\n",
    "print(result) "
   ]
  }
 ],
 "metadata": {
  "kernelspec": {
   "display_name": "Python 3 (ipykernel)",
   "language": "python",
   "name": "python3"
  },
  "language_info": {
   "codemirror_mode": {
    "name": "ipython",
    "version": 3
   },
   "file_extension": ".py",
   "mimetype": "text/x-python",
   "name": "python",
   "nbconvert_exporter": "python",
   "pygments_lexer": "ipython3",
   "version": "3.11.5"
  }
 },
 "nbformat": 4,
 "nbformat_minor": 5
}
