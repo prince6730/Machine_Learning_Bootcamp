{
 "cells": [
  {
   "cell_type": "markdown",
   "id": "f76c7af1",
   "metadata": {},
   "source": [
    "#### 1. Write a Python program to convert kilometers to miles ?"
   ]
  },
  {
   "cell_type": "code",
   "execution_count": 1,
   "id": "c12d5f4f",
   "metadata": {},
   "outputs": [
    {
     "name": "stdout",
     "output_type": "stream",
     "text": [
      "Enter the value in kilometers: 10\n",
      "10 kilometers is equal to 6.21371 miles\n"
     ]
    }
   ],
   "source": [
    "kilometers = int(input(\"Enter the value in kilometers: \"))\n",
    "conversion = 0.621371\n",
    "miles = kilometers * conversion\n",
    "print(f'{kilometers} kilometers is equal to {miles} miles')"
   ]
  },
  {
   "cell_type": "markdown",
   "id": "29c206ed",
   "metadata": {},
   "source": [
    "#### 2. Write a Python program to convert Celsius to Fahrenheit ?"
   ]
  },
  {
   "cell_type": "code",
   "execution_count": 2,
   "id": "9d705ecc",
   "metadata": {},
   "outputs": [
    {
     "name": "stdout",
     "output_type": "stream",
     "text": [
      "Enter the temperature in celsius:20\n",
      "temperature in fahrenheit : 68.0\n"
     ]
    }
   ],
   "source": [
    "celsius = int(input(\"Enter the temperature in celsius:\"))\n",
    "fahrenheit = (1.8 * celsius) + 32\n",
    "print(\"temperature in fahrenheit :\", fahrenheit)"
   ]
  },
  {
   "cell_type": "markdown",
   "id": "a6f0be8c",
   "metadata": {},
   "source": [
    "#### 3. Write a Python program to display calendar ?"
   ]
  },
  {
   "cell_type": "code",
   "execution_count": 3,
   "id": "95befa85",
   "metadata": {},
   "outputs": [
    {
     "name": "stdout",
     "output_type": "stream",
     "text": [
      "Enter the year: 2024\n",
      "Enter the month: 4\n",
      "     April 2024\n",
      "Mo Tu We Th Fr Sa Su\n",
      " 1  2  3  4  5  6  7\n",
      " 8  9 10 11 12 13 14\n",
      "15 16 17 18 19 20 21\n",
      "22 23 24 25 26 27 28\n",
      "29 30\n",
      "\n"
     ]
    }
   ],
   "source": [
    "import calendar  \n",
    "\n",
    "year = int(input(\"Enter the year: \"))  \n",
    "month = int(input(\"Enter the month: \"))  \n",
    "  \n",
    "print(calendar.month(year,month))  "
   ]
  },
  {
   "cell_type": "markdown",
   "id": "91f8dfb7",
   "metadata": {},
   "source": [
    "#### 4. Write a Python program to solve quadratic equation ?"
   ]
  },
  {
   "cell_type": "code",
   "execution_count": 4,
   "id": "c2d8b7aa",
   "metadata": {},
   "outputs": [
    {
     "name": "stdout",
     "output_type": "stream",
     "text": [
      "Enter the coefficient of x^2: 4\n",
      "Enter the coefficient of x: 2\n",
      "Enter the constant term: 3\n",
      "The solutions are:\n",
      "Solution 1: (-0.25+0.82915619758885j)\n",
      "Solution 2: (-0.25-0.82915619758885j)\n"
     ]
    }
   ],
   "source": [
    "import cmath\n",
    "\n",
    "# Input coefficients from the user\n",
    "a = float(input(\"Enter the coefficient of x^2: \"))\n",
    "b = float(input(\"Enter the coefficient of x: \"))\n",
    "c = float(input(\"Enter the constant term: \"))\n",
    "\n",
    "# Calculate the discriminant\n",
    "discriminant = (b ** 2) - (4 * a * c)\n",
    "\n",
    "# Calculate the solutions\n",
    "solution1 = (-b + cmath.sqrt(discriminant)) / (2 * a)\n",
    "solution2 = (-b - cmath.sqrt(discriminant)) / (2 * a)\n",
    "\n",
    "# Print the solutions\n",
    "print(\"The solutions are:\")\n",
    "print(\"Solution 1:\", solution1)\n",
    "print(\"Solution 2:\", solution2)"
   ]
  },
  {
   "cell_type": "markdown",
   "id": "d43f257e",
   "metadata": {},
   "source": [
    "#### 5. Write a Python program to swap two variables without temp variable ?"
   ]
  },
  {
   "cell_type": "code",
   "execution_count": 5,
   "id": "16b5fac8",
   "metadata": {},
   "outputs": [
    {
     "name": "stdout",
     "output_type": "stream",
     "text": [
      "Enter the first number: 20\n",
      "Enter the second number: 30\n",
      "value Before swapping the variable\n",
      "Value of a: 20\n",
      "Value of b: 30\n",
      "value After swapping the variable\n",
      "Value of a: 30\n",
      "Value of b: 20\n"
     ]
    }
   ],
   "source": [
    "a = int(input('Enter the first number: '))\n",
    "b = int(input('Enter the second number: '))\n",
    "print('value Before swapping the variable')\n",
    "print('Value of a:', a)\n",
    "print('Value of b:', b)\n",
    "a = a + b\n",
    "b = a - b\n",
    "a = a - b \n",
    "print('value After swapping the variable')\n",
    "print('Value of a:', a)\n",
    "print('Value of b:', b)"
   ]
  }
 ],
 "metadata": {
  "kernelspec": {
   "display_name": "Python 3 (ipykernel)",
   "language": "python",
   "name": "python3"
  },
  "language_info": {
   "codemirror_mode": {
    "name": "ipython",
    "version": 3
   },
   "file_extension": ".py",
   "mimetype": "text/x-python",
   "name": "python",
   "nbconvert_exporter": "python",
   "pygments_lexer": "ipython3",
   "version": "3.11.5"
  }
 },
 "nbformat": 4,
 "nbformat_minor": 5
}
