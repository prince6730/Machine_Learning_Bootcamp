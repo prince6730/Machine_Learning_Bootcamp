{
 "cells": [
  {
   "cell_type": "markdown",
   "id": "a3f41dd9",
   "metadata": {},
   "source": [
    "#### 1. Write a Python program to print \"Hello Python\"."
   ]
  },
  {
   "cell_type": "code",
   "execution_count": 1,
   "id": "615a59dc",
   "metadata": {},
   "outputs": [
    {
     "name": "stdout",
     "output_type": "stream",
     "text": [
      "Hello Python\n"
     ]
    }
   ],
   "source": [
    "print('Hello Python')"
   ]
  },
  {
   "cell_type": "markdown",
   "id": "753238d9",
   "metadata": {},
   "source": [
    "#### 2. Write a Python program to do arithmetical operations addition and division."
   ]
  },
  {
   "cell_type": "code",
   "execution_count": 4,
   "id": "d5acd42a",
   "metadata": {},
   "outputs": [
    {
     "name": "stdout",
     "output_type": "stream",
     "text": [
      "Enter the first number: 30\n",
      "Enter the second number10\n",
      "Addition of two number: 40\n",
      "Divide the n1 by n2: 3\n"
     ]
    }
   ],
   "source": [
    "n1 = int(input(\"Enter the first number: \"))\n",
    "n2 = int(input('Enter the second number'))\n",
    "add = n1 + n2\n",
    "div = n1 / n2\n",
    "print('Addition of two number:', n1 + n2)\n",
    "print('Divide the n1 by n2:', n1//n2)"
   ]
  },
  {
   "cell_type": "markdown",
   "id": "efb09419",
   "metadata": {},
   "source": [
    "#### 3. Write a Python program to find the area of a triangle ?"
   ]
  },
  {
   "cell_type": "code",
   "execution_count": 5,
   "id": "3e275fd4",
   "metadata": {},
   "outputs": [
    {
     "name": "stdout",
     "output_type": "stream",
     "text": [
      "Enter the length: 14\n",
      "Enter the breadth: 16\n",
      "Area of rectangle is: 224\n"
     ]
    }
   ],
   "source": [
    "l = int(input(\"Enter the length: \"))\n",
    "b = int(input(\"Enter the breadth: \"))\n",
    "print('Area of rectangle is:', l*b)"
   ]
  },
  {
   "cell_type": "markdown",
   "id": "2bffbdc4",
   "metadata": {},
   "source": [
    "#### 4. Write a Python program to swap two variables ?"
   ]
  },
  {
   "cell_type": "code",
   "execution_count": 8,
   "id": "2a4d714e",
   "metadata": {},
   "outputs": [
    {
     "name": "stdout",
     "output_type": "stream",
     "text": [
      "Enter the first number: 10\n",
      "Enter the second number20\n",
      "Before swapping number\n",
      "a: 10\n",
      "b: 20\n",
      "After swapping number\n",
      "a: 20\n",
      "b: 10\n"
     ]
    }
   ],
   "source": [
    "a = int(input(\"Enter the first number: \"))\n",
    "b = int(input('Enter the second number'))\n",
    "print('Before swapping number')\n",
    "print('a:', a)\n",
    "print('b:', b)\n",
    "print('After swapping number')\n",
    "a = a + b\n",
    "b = a - b\n",
    "a = a - b\n",
    "print('a:', a)\n",
    "print('b:', b)"
   ]
  },
  {
   "cell_type": "markdown",
   "id": "40ac5be6",
   "metadata": {},
   "source": [
    "#### 5. Write a Python program to generate a random number ?"
   ]
  },
  {
   "cell_type": "code",
   "execution_count": 11,
   "id": "920fe437",
   "metadata": {},
   "outputs": [
    {
     "name": "stdout",
     "output_type": "stream",
     "text": [
      "Random number: 52\n"
     ]
    }
   ],
   "source": [
    "import random\n",
    "\n",
    "random_number = random.randint(1, 100)\n",
    "print(\"Random number:\", random_number)"
   ]
  }
 ],
 "metadata": {
  "kernelspec": {
   "display_name": "Python 3 (ipykernel)",
   "language": "python",
   "name": "python3"
  },
  "language_info": {
   "codemirror_mode": {
    "name": "ipython",
    "version": 3
   },
   "file_extension": ".py",
   "mimetype": "text/x-python",
   "name": "python",
   "nbconvert_exporter": "python",
   "pygments_lexer": "ipython3",
   "version": "3.11.5"
  }
 },
 "nbformat": 4,
 "nbformat_minor": 5
}
