{
 "cells": [
  {
   "cell_type": "markdown",
   "id": "503dce69",
   "metadata": {},
   "source": [
    "#### 1) . What is the difference between enclosing a list comprehension in square brackets and parentheses ?"
   ]
  },
  {
   "cell_type": "markdown",
   "id": "01396d53",
   "metadata": {},
   "source": [
    "In python, enclosing a list comprehension in square brackets ([]) creates a list, while enclosing it in parentheses (()) creates a generator expression.\n",
    "\n",
    " Square Brackets ([]):-\n",
    "\n",
    "When you use square brackets, you're creating a list comprehension.   \n",
    "List comprehensions generate the entire list in memory at once.   \n",
    "This means that if you use square brackets, Python will create and store the entire list in memory before it's used or iterated over."
   ]
  },
  {
   "cell_type": "code",
   "execution_count": 1,
   "id": "bdb22409",
   "metadata": {},
   "outputs": [
    {
     "name": "stdout",
     "output_type": "stream",
     "text": [
      "[0, 1, 4, 9, 16]\n"
     ]
    }
   ],
   "source": [
    "# Example:-\n",
    "\n",
    "squares = [x**2 for x in range(5)]  # This creates a list of squares\n",
    "print(squares)"
   ]
  },
  {
   "cell_type": "markdown",
   "id": "da3c273f",
   "metadata": {},
   "source": [
    "Parentheses (()):\n",
    "\n",
    "When you use parentheses, you're creating a generator expression.  \n",
    "Generator expressions generate elements of the sequence lazily, one at a time, as they are needed.  \n",
    "This is more memory-efficient compared to list comprehensions, especially when dealing with large datasets, as it doesn't create the entire sequence in memory at once."
   ]
  },
  {
   "cell_type": "code",
   "execution_count": 3,
   "id": "4cb6740d",
   "metadata": {},
   "outputs": [
    {
     "name": "stdout",
     "output_type": "stream",
     "text": [
      "<generator object <genexpr> at 0x0000028C71ACF9F0>\n",
      "[0, 1, 4, 9, 16]\n"
     ]
    }
   ],
   "source": [
    "# Example:- \n",
    "\n",
    "square_gen = (x**2 for x in range(5))  # This creates a generator expression\n",
    "print(square_gen)  \n",
    "print(list(square_gen))"
   ]
  },
  {
   "cell_type": "markdown",
   "id": "6a785c1d",
   "metadata": {},
   "source": [
    "#### 2) What is the relationship between generators and iterators ?"
   ]
  },
  {
   "cell_type": "markdown",
   "id": "765f7514",
   "metadata": {},
   "source": [
    "1) Iterators: An iterator is an object that represents a stream of data. It implements the iterator protocol, which requires two methods: __iter__() and __next__(). The __iter__() method returns the iterator object itself, and __next__() method returns the next item from the stream. When there are no more items to return, __next__() raises a StopIteration exception.\n",
    "\n",
    "2) Generators: Generators are a special kind of iterator. They are defined using the yield keyword instead of the return keyword. When a generator function is called, it returns a generator object. Generator functions can pause and resume their execution, allowing them to generate a sequence of values lazily. Each time the yield statement is encountered, the function's state is saved, and the value is returned to the caller. When the generator is called again, execution resumes from the point where it was paused."
   ]
  },
  {
   "cell_type": "markdown",
   "id": "4bc328d3",
   "metadata": {},
   "source": [
    "#### 3) What are the signs that a function is a generator function ?"
   ]
  },
  {
   "cell_type": "markdown",
   "id": "d58aacf0",
   "metadata": {},
   "source": [
    "In python, a generator function is a special type of function that returns an iterator. It generates values on the fly rather than storing them in memory all at once. There are several signs that indicate a function is a generator function:\n",
    "\n",
    "1) Use of the yield keyword: Instead of using return to return a value, a generator function uses the yield keyword to yield a value. When a generator function is called, it returns a generator iterator rather than executing the function's code immediately.\n",
    "\n",
    "2) Presence of yield statements: Generator functions typically have one or more yield statements inside them. These statements define points where the function will \"yield\" control back to the caller, returning a value.\n",
    "\n",
    "3) Function may have an indefinite loop: Generator functions often contain indefinite loops (loops that don't have a predetermined number of iterations) since they continue to yield values until they're exhausted. However, this isn't a strict requirement."
   ]
  },
  {
   "cell_type": "code",
   "execution_count": 9,
   "id": "9e3f5693",
   "metadata": {},
   "outputs": [
    {
     "name": "stdout",
     "output_type": "stream",
     "text": [
      "1 2 3 4 5 "
     ]
    }
   ],
   "source": [
    "# Example:- \n",
    "\n",
    "def count_up_to(n):\n",
    "    count = 1\n",
    "    while count <= n:\n",
    "        yield count\n",
    "        count += 1\n",
    "\n",
    "# Using the generator function\n",
    "counter = count_up_to(5)\n",
    "for num in counter:\n",
    "    print(num, end = ' ')"
   ]
  },
  {
   "cell_type": "markdown",
   "id": "44c12f4e",
   "metadata": {},
   "source": [
    "#### 4) What is the purpose of a yield statement ?"
   ]
  },
  {
   "cell_type": "markdown",
   "id": "a71db8db",
   "metadata": {},
   "source": [
    "In python, the yield statement is used in the context of generators. It's a way to create iterator objects without needing to implement a class with __iter__() and __next__() methods. When a function contains a yield statement, it becomes a generator function, capable of pausing and resuming its execution, which allows it to produce a sequence of values over time rather than all at once."
   ]
  },
  {
   "cell_type": "markdown",
   "id": "257538c8",
   "metadata": {},
   "source": [
    "#### 5) What is the relationship between map calls and list comprehensions? Make a comparison and contrast between the two."
   ]
  },
  {
   "cell_type": "markdown",
   "id": "9ac9ce31",
   "metadata": {},
   "source": [
    "Both map calls and list comprehensions in Python are ways to apply a function to elements of a list, but they differ in syntax and flexibility.\n",
    "\n",
    "Map Calls:-    \n",
    "\n",
    "1) map applies a function to each item in an iterable (like a list) and returns an iterator.\n",
    "2) It takes two arguments: the function to apply and the iterable.\n",
    "3) It's concise and elegant when you want to apply a function to every element of a list without writing a loop.However, \n",
    "it often requires a lambda function or a separate defined function, which can make the code less readable for simple operations."
   ]
  },
  {
   "cell_type": "code",
   "execution_count": 17,
   "id": "3db8ad7f",
   "metadata": {},
   "outputs": [
    {
     "name": "stdout",
     "output_type": "stream",
     "text": [
      "[4, 6, 8, 16]\n"
     ]
    }
   ],
   "source": [
    "# Example:- \n",
    "\n",
    "result = list(filter(None, map(lambda n: n if n % 2 == 0 else None, [4,6,7,8,9,11,13,16])))\n",
    "print(result)"
   ]
  },
  {
   "cell_type": "markdown",
   "id": "d909d31a",
   "metadata": {},
   "source": [
    "List Comprehensions:-\n",
    "\n",
    "1) List comprehensions provide a more concise and readable way to create lists based on existing lists.\n",
    "2) They consist of square brackets containing an expression followed by a for clause, then zero or more for or if clauses.\n",
    "3) They are more flexible and can incorporate conditions and multiple iterations.\n",
    "4) They are often more readable than map calls, especially for simple operations."
   ]
  },
  {
   "cell_type": "code",
   "execution_count": 19,
   "id": "2b3a0291",
   "metadata": {},
   "outputs": [
    {
     "name": "stdout",
     "output_type": "stream",
     "text": [
      "[8, 12, 14, 16, 18, 22, 26, 32]\n"
     ]
    }
   ],
   "source": [
    "# Example:- \n",
    "\n",
    "result = [x * 2 for x in [4,6,7,8,9,11,13,16]]\n",
    "print(result)"
   ]
  },
  {
   "cell_type": "markdown",
   "id": "e2f45aad",
   "metadata": {},
   "source": [
    "Comparison:-\n",
    "\n",
    "1) Both map calls and list comprehensions can achieve similar results in terms of applying a function to elements of a list.\n",
    "2) List comprehensions are generally more readable and concise, especially for simple operations.\n",
    "3) Map calls might be preferred when you need to apply a more complex function or when working with functions that are already defined and reusable."
   ]
  },
  {
   "cell_type": "markdown",
   "id": "05035b75",
   "metadata": {},
   "source": [
    "Contrast:-\n",
    "\n",
    "1) List comprehensions return a new list, while map returns an iterator, which can be converted into a list using list().\n",
    "2) List comprehensions allow for more complex iteration and conditions within a single expression, while map is typically used for straightforward operations.\n",
    "3) List comprehensions can sometimes be more efficient, as they are implemented in C under the hood and don't require the overhead of function calls.\n",
    "4) map is more suitable when you have an existing function that you want to apply to every element of a list without explicitly writing a loop."
   ]
  }
 ],
 "metadata": {
  "kernelspec": {
   "display_name": "Python 3 (ipykernel)",
   "language": "python",
   "name": "python3"
  },
  "language_info": {
   "codemirror_mode": {
    "name": "ipython",
    "version": 3
   },
   "file_extension": ".py",
   "mimetype": "text/x-python",
   "name": "python",
   "nbconvert_exporter": "python",
   "pygments_lexer": "ipython3",
   "version": "3.11.5"
  }
 },
 "nbformat": 4,
 "nbformat_minor": 5
}
