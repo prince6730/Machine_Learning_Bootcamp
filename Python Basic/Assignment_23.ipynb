{
 "cells": [
  {
   "cell_type": "markdown",
   "id": "eb5a0853",
   "metadata": {},
   "source": [
    "#### 1. What is the result of the code, and why ?"
   ]
  },
  {
   "cell_type": "code",
   "execution_count": 1,
   "id": "4193e2a6",
   "metadata": {},
   "outputs": [
    {
     "name": "stdout",
     "output_type": "stream",
     "text": [
      "1 2 8\n"
     ]
    }
   ],
   "source": [
    "def func(a, b=6, c=8):\n",
    "    print(a, b, c)\n",
    "func(1, 2)"
   ]
  },
  {
   "cell_type": "markdown",
   "id": "2375c01d",
   "metadata": {},
   "source": [
    "Above code defines a function func with three parameters: a, b, and c. The parameters b and c have default values of 6 and\n",
    "8 respectively.\n",
    "\n",
    "When the function func is called with func(1, 2), it's passing 1 for a and 2 for b. Since no value is provided for c, \n",
    "it takes the default value as 8."
   ]
  },
  {
   "cell_type": "markdown",
   "id": "43ca231b",
   "metadata": {},
   "source": [
    "#### 2. What is the result of this code, and why ?"
   ]
  },
  {
   "cell_type": "code",
   "execution_count": 3,
   "id": "cbaa20a8",
   "metadata": {},
   "outputs": [
    {
     "name": "stdout",
     "output_type": "stream",
     "text": [
      "1 2 3\n"
     ]
    }
   ],
   "source": [
    "def func(a, b, c=5):\n",
    "    print(a, b, c)\n",
    "func(1, c=3, b=2)"
   ]
  },
  {
   "cell_type": "markdown",
   "id": "4a9bfd26",
   "metadata": {},
   "source": [
    "In python, when we calling a function, you can specify the arguments by either their position or their name.\n",
    "\n",
    "In the function call func(1, c=3, b=2), the arguments 1, 2, and 3 are passed to a, b, and c, respectively. \n",
    "Even though c is specified by name, it still gets assigned the value 3 bacuase it is overriding the default value which is 5.\n",
    "\n",
    "The order of the keyword arguments (b=2, c=3) doesn't matter as long as all non-default arguments are specified first. Therefore, b gets the value 2.\n",
    "\n",
    "Hence when the function is executed, it will print 1 2 3."
   ]
  },
  {
   "cell_type": "markdown",
   "id": "645d93a5",
   "metadata": {},
   "source": [
    "#### 3. How about this code: what is its result, and why ?"
   ]
  },
  {
   "cell_type": "code",
   "execution_count": 5,
   "id": "dae95963",
   "metadata": {},
   "outputs": [
    {
     "name": "stdout",
     "output_type": "stream",
     "text": [
      "1 (2, 3)\n"
     ]
    }
   ],
   "source": [
    "def func(a, *pargs):\n",
    "    print(a, pargs)\n",
    "func(1, 2, 3)"
   ]
  },
  {
   "cell_type": "markdown",
   "id": "e60127ed",
   "metadata": {},
   "source": [
    "Above code defines a function named func that takes at least one argument a, followed by a variable number of additional \n",
    "positional arguments (*pargs). Inside the function, it prints the value of a followed by the tuple of additional positional \n",
    "arguments pargs.\n",
    "\n",
    "When the function func is called with func(1, 2, 3), it passes 1 as the value for a, and 2 and 3 as additional positional \n",
    "arguments.\n",
    "\n",
    "Hence, 1 is the value of a, and (2, 3) is the tuple containing the additional positional arguments passed to the function."
   ]
  },
  {
   "cell_type": "markdown",
   "id": "ee0020ea",
   "metadata": {},
   "source": [
    "#### 4. What does this code print, and why?"
   ]
  },
  {
   "cell_type": "code",
   "execution_count": 6,
   "id": "a385fec1",
   "metadata": {},
   "outputs": [
    {
     "name": "stdout",
     "output_type": "stream",
     "text": [
      "1 {'c': 3, 'b': 2}\n"
     ]
    }
   ],
   "source": [
    "def func(a, **kargs):\n",
    "    print(a, kargs)\n",
    "func(a=1, c=3, b=2)"
   ]
  },
  {
   "cell_type": "markdown",
   "id": "67e36859",
   "metadata": {},
   "source": [
    "The function func is defined with two parameters: \n",
    "a and **kargs, where **kargs is used to collect any additional keyword arguments passed to the function.\n",
    "\n",
    "When the function is called func(a=1, c=3, b=2), a is assigned the value 1, and the remaining keyword arguments c=3 and\n",
    "b=2 are collected into the kargs dictionary.\n",
    "\n",
    "The print statement inside the function prints the value of a (which is 1) followed by the content of the kargs dictionary,\n",
    "which contains the remaining keyword arguments ('c': 3 and 'b': 2)."
   ]
  },
  {
   "cell_type": "markdown",
   "id": "48e07745",
   "metadata": {},
   "source": [
    "#### 5. What gets printed by this, and explain?"
   ]
  },
  {
   "cell_type": "code",
   "execution_count": 8,
   "id": "4c01a43b",
   "metadata": {},
   "outputs": [
    {
     "name": "stdout",
     "output_type": "stream",
     "text": [
      "1 5 6 5\n"
     ]
    }
   ],
   "source": [
    "def func(a, b, c=8, d=5): \n",
    "    print(a, b, c, d)\n",
    "func(1, *(5, 6))"
   ]
  },
  {
   "cell_type": "markdown",
   "id": "b5ae32f1",
   "metadata": {},
   "source": [
    "Above code defines a function func that takes four parameters: a, b, c, and d. \n",
    "The parameters c and d have default values of 8 and 5 respectively.\n",
    "\n",
    "In the function call func(1, *(5, 6)), the arguments are provided in a slightly unusual way. The * operator is \n",
    "used with a tuple (5, 6). This means that the tuple (5, 6) will be unpacked, and its elements will be passed as separate arguments to the function func.\n",
    "\n",
    "when this function is executed:    \n",
    "a is assigned the value 1.   \n",
    "b is assigned the value 5.     \n",
    "Since no value is explicitly provided for c, it takes its default value, which is 8.    \n",
    "Since no value is explicitly provided for d, it takes its default value, which is 5."
   ]
  },
  {
   "cell_type": "markdown",
   "id": "2b8d72b8",
   "metadata": {},
   "source": [
    "#### 6. what is the result of this, and explain ?"
   ]
  },
  {
   "cell_type": "code",
   "execution_count": 12,
   "id": "d575fec2",
   "metadata": {},
   "outputs": [
    {
     "data": {
      "text/plain": [
       "(1, ['x'], {'a': 'y'})"
      ]
     },
     "execution_count": 12,
     "metadata": {},
     "output_type": "execute_result"
    }
   ],
   "source": [
    "def func(a, b, c): \n",
    "    a = 2; b[0] = 'x'; c['a'] = 'y'\n",
    "l = 1; m = [1]; n = {'a':0}\n",
    "func(l, m, n)\n",
    "l,m,n"
   ]
  },
  {
   "cell_type": "markdown",
   "id": "0173bb1c",
   "metadata": {},
   "source": [
    "Above code defines a function func that takes three arguments a, b, and c. Inside the function, the values of a, \n",
    "the first element of b, and the value associated with the key 'a' in dictionary c are modified.\n",
    "\n",
    "when the function is called with the variables l, m, and n:\n",
    "\n",
    "l is passed as an argument to a, which is a simple integer. Since integers are immutable in Python, changing a inside the function won't affect the original variable l.     \n",
    "m is passed as an argument to b, which is a list. Lists are mutable, so when the first element of b is changed inside the function, it modifies the original list m as well.    \n",
    "n is passed as an argument to c, which is a dictionary. Dictionaries are mutable, so when the value associated with the key 'a' in c is changed inside the function, it also modifies the original dictionary n.   \n",
    "After the function call, the values of l, m, and n are printed.    \n",
    "\n",
    "l remains unchanged because integers are immutable.   \n",
    "m has its first element changed to 'x' because it's a list, and lists are mutable.    \n",
    "n has its value associated with the key 'a' changed to 'y' because it's a dictionary, and dictionaries are mutable.   \n",
    "Result of l, m, and n after the function call would be (1, ['x'], {'a': 'y'}).   "
   ]
  }
 ],
 "metadata": {
  "kernelspec": {
   "display_name": "Python 3 (ipykernel)",
   "language": "python",
   "name": "python3"
  },
  "language_info": {
   "codemirror_mode": {
    "name": "ipython",
    "version": 3
   },
   "file_extension": ".py",
   "mimetype": "text/x-python",
   "name": "python",
   "nbconvert_exporter": "python",
   "pygments_lexer": "ipython3",
   "version": "3.11.5"
  }
 },
 "nbformat": 4,
 "nbformat_minor": 5
}
