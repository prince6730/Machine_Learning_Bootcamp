{
 "cells": [
  {
   "cell_type": "markdown",
   "id": "75fc1016",
   "metadata": {},
   "source": [
    "#### 1. Write a Python Program to Display Fibonacci Sequence Using Recursion ?"
   ]
  },
  {
   "cell_type": "code",
   "execution_count": 1,
   "id": "938e10a4",
   "metadata": {},
   "outputs": [
    {
     "name": "stdout",
     "output_type": "stream",
     "text": [
      "Enter the number: 5\n",
      "0\n",
      "1\n",
      "1\n",
      "2\n",
      "3\n"
     ]
    }
   ],
   "source": [
    "def fibo(n):\n",
    "    if n == 1:\n",
    "        return 0\n",
    "    if n == 2:\n",
    "        return 1\n",
    "    else:\n",
    "        return fibo(n-1) + fibo(n-2)\n",
    "        \n",
    "num = int(input('Enter the number: '))\n",
    "for i in range(1, num+1):\n",
    "    print(fibo(i))"
   ]
  },
  {
   "cell_type": "markdown",
   "id": "7c5d35d1",
   "metadata": {},
   "source": [
    "#### 2. Write a Python Program to Find Factorial of Number Using Recursion ?"
   ]
  },
  {
   "cell_type": "code",
   "execution_count": 2,
   "id": "59a35ae5",
   "metadata": {},
   "outputs": [
    {
     "name": "stdout",
     "output_type": "stream",
     "text": [
      "Enter the number: 5\n",
      "120\n"
     ]
    }
   ],
   "source": [
    "def factorial(n):\n",
    "    if n == 1 or n == 1:\n",
    "        return 1\n",
    "    else:\n",
    "        return n*factorial(n-1)\n",
    "    \n",
    "num = int(input('Enter the number: '))\n",
    "print(factorial(num))"
   ]
  },
  {
   "cell_type": "markdown",
   "id": "08ac14e6",
   "metadata": {},
   "source": [
    "#### 3. Write a Python Program to calculate your Body Mass Index ?"
   ]
  },
  {
   "cell_type": "code",
   "execution_count": 3,
   "id": "0aa1ccef",
   "metadata": {},
   "outputs": [
    {
     "name": "stdout",
     "output_type": "stream",
     "text": [
      "Enter the height in cm: 6.1\n",
      "Enter the weight in kg: 81\n",
      "Your Body Mass Index is 21768.34184359043\n"
     ]
    }
   ],
   "source": [
    "the_height = float(input(\"Enter the height in cm: \"))  \n",
    "the_weight = float(input(\"Enter the weight in kg: \"))  \n",
    "\n",
    "BMI = the_weight / (the_height/100)**2  \n",
    "\n",
    "print(f'Your Body Mass Index is {BMI}')  "
   ]
  },
  {
   "cell_type": "markdown",
   "id": "9758b9c9",
   "metadata": {},
   "source": [
    "#### 4. Write a Python Program to calculate the natural logarithm of any number ?"
   ]
  },
  {
   "cell_type": "code",
   "execution_count": 4,
   "id": "339924c7",
   "metadata": {},
   "outputs": [
    {
     "name": "stdout",
     "output_type": "stream",
     "text": [
      "Enter the number: 4\n",
      "The value is 1.3862943611198906\n"
     ]
    }
   ],
   "source": [
    "import math\n",
    "\n",
    "n = int(input(\"Enter the number: \"))\n",
    "\n",
    "print(f'The value is {math.log(n)}')"
   ]
  },
  {
   "cell_type": "markdown",
   "id": "3791a4ce",
   "metadata": {},
   "source": [
    "#### 5. Write a Python Program for cube sum of first n natural numbers ?"
   ]
  },
  {
   "cell_type": "code",
   "execution_count": 5,
   "id": "e5ab584d",
   "metadata": {},
   "outputs": [
    {
     "name": "stdout",
     "output_type": "stream",
     "text": [
      "Enter the number: 6\n",
      "Sum of cubes of first 6 natural numbers: 441\n"
     ]
    }
   ],
   "source": [
    "def cubeSum(n):\n",
    "    s = 0\n",
    "    for i in range(n + 1):\n",
    "        s += i ** 3\n",
    "    return s\n",
    "\n",
    "n = int(input(\"Enter the number: \"))\n",
    "print(f\"Sum of cubes of first {n} natural numbers: {cubeSum(n)}\")"
   ]
  }
 ],
 "metadata": {
  "kernelspec": {
   "display_name": "Python 3 (ipykernel)",
   "language": "python",
   "name": "python3"
  },
  "language_info": {
   "codemirror_mode": {
    "name": "ipython",
    "version": 3
   },
   "file_extension": ".py",
   "mimetype": "text/x-python",
   "name": "python",
   "nbconvert_exporter": "python",
   "pygments_lexer": "ipython3",
   "version": "3.11.5"
  }
 },
 "nbformat": 4,
 "nbformat_minor": 5
}
