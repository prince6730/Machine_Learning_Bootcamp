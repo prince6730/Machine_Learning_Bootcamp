{
 "cells": [
  {
   "cell_type": "markdown",
   "id": "2c69c340",
   "metadata": {},
   "source": [
    "#### 1. Write a Python Program to Find the Factorial of a Number ?"
   ]
  },
  {
   "cell_type": "code",
   "execution_count": 1,
   "id": "b7bc45f3",
   "metadata": {},
   "outputs": [
    {
     "name": "stdout",
     "output_type": "stream",
     "text": [
      "Enter the number: 5\n"
     ]
    },
    {
     "data": {
      "text/plain": [
       "120"
      ]
     },
     "execution_count": 1,
     "metadata": {},
     "output_type": "execute_result"
    }
   ],
   "source": [
    "def factorial(n):\n",
    "    if n == 1 or n == 0:\n",
    "        return 1\n",
    "    else:\n",
    "        return n*factorial(n-1)\n",
    "    \n",
    "num = int(input(\"Enter the number: \"))\n",
    "factorial(num)"
   ]
  },
  {
   "cell_type": "markdown",
   "id": "39bfc31d",
   "metadata": {},
   "source": [
    "#### 2. Write a Python Program to Display the multiplication Table ?"
   ]
  },
  {
   "cell_type": "code",
   "execution_count": 2,
   "id": "8cb49441",
   "metadata": {},
   "outputs": [
    {
     "name": "stdout",
     "output_type": "stream",
     "text": [
      "Enter the number: 2\n",
      "2 X 1 = 2\n",
      "2 X 2 = 4\n",
      "2 X 3 = 6\n",
      "2 X 4 = 8\n",
      "2 X 5 = 10\n",
      "2 X 6 = 12\n",
      "2 X 7 = 14\n",
      "2 X 8 = 16\n",
      "2 X 9 = 18\n",
      "2 X 10 = 20\n"
     ]
    }
   ],
   "source": [
    "n = int(input('Enter the number: '))\n",
    "for i in range(1,11):\n",
    "    print(f'{n} X {i} = {n*i}')"
   ]
  },
  {
   "cell_type": "markdown",
   "id": "46b827b7",
   "metadata": {},
   "source": [
    "#### 3. Write a Python Program to Print the Fibonacci sequence ?"
   ]
  },
  {
   "cell_type": "code",
   "execution_count": 3,
   "id": "cfa26f0a",
   "metadata": {},
   "outputs": [
    {
     "name": "stdout",
     "output_type": "stream",
     "text": [
      "Enter the number: 4\n",
      "0\n",
      "1\n",
      "1\n",
      "2\n"
     ]
    }
   ],
   "source": [
    "def fibo(n):\n",
    "    if n == 1:\n",
    "        return 0\n",
    "    if n == 2:\n",
    "        return 1\n",
    "    else:\n",
    "        return fibo(n-1) + fibo(n-2)\n",
    "        \n",
    "num = int(input(\"Enter the number: \"))\n",
    "for i in range(1, num+1):\n",
    "    print(fibo(i))"
   ]
  },
  {
   "cell_type": "markdown",
   "id": "e59ed080",
   "metadata": {},
   "source": [
    "#### 4. Write a Python Program to Check Armstrong Number ?"
   ]
  },
  {
   "cell_type": "code",
   "execution_count": 4,
   "id": "d9b2c3a2",
   "metadata": {},
   "outputs": [
    {
     "name": "stdout",
     "output_type": "stream",
     "text": [
      "Enter the number: 153\n",
      "153 is an armstrong number\n"
     ]
    }
   ],
   "source": [
    "n = int(input('Enter the number: '))\n",
    "sums = 0\n",
    "temp = n\n",
    "while n > 0:\n",
    "    r = n % 10\n",
    "    sums = sums + (r*r*r)\n",
    "    n = n // 10\n",
    "if temp == sums:\n",
    "    print(f'{temp} is an armstrong number')\n",
    "else:\n",
    "    print(f'{temp} is not an armstrong number')"
   ]
  },
  {
   "cell_type": "markdown",
   "id": "1176b871",
   "metadata": {},
   "source": [
    "#### 5. Write a Python Program to Find Armstrong Number in an Interval ?"
   ]
  },
  {
   "cell_type": "code",
   "execution_count": 5,
   "id": "27e744e2",
   "metadata": {},
   "outputs": [
    {
     "name": "stdout",
     "output_type": "stream",
     "text": [
      "Enter the lower input: 100\n",
      "Enter the upper input: 1000\n",
      "153 370 371 407 "
     ]
    }
   ],
   "source": [
    "lower = int(input('Enter the lower input: '))\n",
    "upper = int(input('Enter the upper input: '))\n",
    "\n",
    "for n in range(lower, upper + 1):\n",
    "    order = len(str(n))\n",
    "    sums = 0\n",
    "    temp = n\n",
    "    while n > 0:\n",
    "        r = n % 10\n",
    "        sums += r ** order\n",
    "        n = n // 10\n",
    "\n",
    "    if temp == sums:\n",
    "        print(temp, end = ' ')"
   ]
  },
  {
   "cell_type": "markdown",
   "id": "b67e43f1",
   "metadata": {},
   "source": [
    "#### 6. Write a Python Program to Find the Sum of Natural Numbers ?"
   ]
  },
  {
   "cell_type": "code",
   "execution_count": 6,
   "id": "02ec73a3",
   "metadata": {},
   "outputs": [
    {
     "name": "stdout",
     "output_type": "stream",
     "text": [
      "Enter the number: 100\n",
      "Sum of natural numbers up to 100 is: 5050\n"
     ]
    }
   ],
   "source": [
    "n = int(input('Enter the number: '))\n",
    "sums = 0\n",
    "\n",
    "for i in range(1, n + 1):\n",
    "    sums += i\n",
    "\n",
    "print(f\"Sum of natural numbers up to {n} is:\", sums)"
   ]
  }
 ],
 "metadata": {
  "kernelspec": {
   "display_name": "Python 3 (ipykernel)",
   "language": "python",
   "name": "python3"
  },
  "language_info": {
   "codemirror_mode": {
    "name": "ipython",
    "version": 3
   },
   "file_extension": ".py",
   "mimetype": "text/x-python",
   "name": "python",
   "nbconvert_exporter": "python",
   "pygments_lexer": "ipython3",
   "version": "3.11.5"
  }
 },
 "nbformat": 4,
 "nbformat_minor": 5
}
