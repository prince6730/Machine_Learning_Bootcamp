{
 "cells": [
  {
   "cell_type": "markdown",
   "id": "097ccc88",
   "metadata": {},
   "source": [
    "# 1. What is the name of the feature responsible for generating Regex objects?"
   ]
  },
  {
   "cell_type": "markdown",
   "id": "c97c1c70",
   "metadata": {},
   "source": [
    "The re.compile() function returns Regex objects."
   ]
  },
  {
   "cell_type": "markdown",
   "id": "1ef61765",
   "metadata": {},
   "source": [
    "# 2. Why do raw strings often appear in Regex objects?"
   ]
  },
  {
   "cell_type": "markdown",
   "id": "be60118f",
   "metadata": {},
   "source": [
    "Beacuse raw strings are used so that backslashes do not have to be escaped."
   ]
  },
  {
   "cell_type": "markdown",
   "id": "e57ceb10",
   "metadata": {},
   "source": [
    "# 3. What is the return value of the search() method?"
   ]
  },
  {
   "cell_type": "markdown",
   "id": "3b30aa4c",
   "metadata": {},
   "source": [
    "The search() method returns Match objects."
   ]
  },
  {
   "cell_type": "markdown",
   "id": "3d099ad4",
   "metadata": {},
   "source": [
    "# 4. From a Match item, how do you get the actual strings that match the pattern?"
   ]
  },
  {
   "cell_type": "markdown",
   "id": "9e916d13",
   "metadata": {},
   "source": [
    "The group() method returns strings of the matched text."
   ]
  },
  {
   "cell_type": "markdown",
   "id": "c971d423",
   "metadata": {},
   "source": [
    "# 5. In the regex which created from the r's(\\d\\d\\d)-(\\d\\d\\d-\\d\\d\\d\\d)', what does group zero cover? Group 2? Group 1?"
   ]
  },
  {
   "cell_type": "markdown",
   "id": "65fcbadd",
   "metadata": {},
   "source": [
    "Group 0 is the entire match, group 1 covers the first set of parentheses, and group 2 covers the second set of parentheses."
   ]
  },
  {
   "cell_type": "markdown",
   "id": "e5ba9925",
   "metadata": {},
   "source": [
    "# 6. In standard expression syntax, parentheses and intervals have distinct meanings. How can you tell a regex that you want it to fit real parentheses and periods?"
   ]
  },
  {
   "cell_type": "raw",
   "id": "080036f3",
   "metadata": {},
   "source": [
    "Periods and parentheses can be escaped with a backslash:   \n",
    "\\.,         \n",
    "\\(, and \\)."
   ]
  },
  {
   "cell_type": "markdown",
   "id": "6e579555",
   "metadata": {},
   "source": [
    "# 7. The findall() method returns a string list or a list of string tuples. What causes it to return one of the two options?"
   ]
  },
  {
   "cell_type": "markdown",
   "id": "cd6a005a",
   "metadata": {},
   "source": [
    "If the regex has no groups, a list of strings is returned. If the regex has groups, a list of tuples of strings is returned."
   ]
  },
  {
   "cell_type": "markdown",
   "id": "73ee6c75",
   "metadata": {},
   "source": [
    "# 8. In standard expressions, what does the | character mean?"
   ]
  },
  {
   "cell_type": "markdown",
   "id": "919f28ab",
   "metadata": {},
   "source": [
    "This (|) character reprents signifies matching \"either, or\" between two groups."
   ]
  },
  {
   "cell_type": "markdown",
   "id": "67743d13",
   "metadata": {},
   "source": [
    "# 9. In regular expressions, what does the character stand for?"
   ]
  },
  {
   "cell_type": "markdown",
   "id": "a91af196",
   "metadata": {},
   "source": [
    "All characters in regex except those having special meaning in regex, matches themselves. E.g., the regex x matches substring \"x\"; regex 9 matches \"9\"; regex = matches \"=\"; and regex @ matches \"@\"."
   ]
  },
  {
   "cell_type": "markdown",
   "id": "819e24f1",
   "metadata": {},
   "source": [
    "# 10.In regular expressions, what is the difference between the + and * characters?"
   ]
  },
  {
   "cell_type": "markdown",
   "id": "f14497c3",
   "metadata": {},
   "source": [
    "The + matches one or more.\n",
    "\n",
    "Example:- [0-9]+ matches one or more digits such as '123', '000'.   \n",
    "    \n",
    "The * matches zero or more.\n",
    "\n",
    "Example:- [0-9]* matches zero or more digits. It accepts all those in [0-9]+ plus the empty string."
   ]
  },
  {
   "cell_type": "markdown",
   "id": "aa6999c9",
   "metadata": {},
   "source": [
    "# 11. What is the difference between {4} and {4,5} in regular expression?"
   ]
  },
  {
   "cell_type": "markdown",
   "id": "876d0afa",
   "metadata": {},
   "source": [
    "The {4} matches exactly four instances of the preceding group. The {4,5} matches between four and five instances."
   ]
  },
  {
   "cell_type": "markdown",
   "id": "f0c88f8f",
   "metadata": {},
   "source": [
    "# 12. What do you mean by the \\d, \\w, and \\s shorthand character classes signify in regular expressions?"
   ]
  },
  {
   "cell_type": "markdown",
   "id": "2d99ac3a",
   "metadata": {},
   "source": [
    "\\d :- It matches any digit character between [0-9].   \n",
    "\\w :- It matches any word character between [a-z0-9_].   \n",
    "\\s :- It matches any space character between [\\t\\f]."
   ]
  },
  {
   "cell_type": "markdown",
   "id": "c04cd4d7",
   "metadata": {},
   "source": [
    "# 13. What do means by \\D, \\W, and \\S shorthand character classes signify in regular expressions?"
   ]
  },
  {
   "cell_type": "markdown",
   "id": "f1afc4ea",
   "metadata": {},
   "source": [
    "\\D :- It matches any non-digit character between [0-9].   \n",
    "\\W :- It matches any non-word character between [A-Z0-9_].   \n",
    "\\S :- It matches any non-space character between [\\n\\r]."
   ]
  },
  {
   "cell_type": "markdown",
   "id": "75b83846",
   "metadata": {},
   "source": [
    "# 14. What is the difference between .*? and .*?"
   ]
  },
  {
   "cell_type": "markdown",
   "id": "618e0f55",
   "metadata": {},
   "source": [
    "The . performs a greedy match, and the .? performs a nongreedy match."
   ]
  },
  {
   "cell_type": "markdown",
   "id": "d0737553",
   "metadata": {},
   "source": [
    "# 15. What is the syntax for matching both numbers and lowercase letters with a character class?"
   ]
  },
  {
   "cell_type": "markdown",
   "id": "1978ad89",
   "metadata": {},
   "source": [
    "It is either [0-9a-z] or [a-z0-9]."
   ]
  },
  {
   "cell_type": "markdown",
   "id": "92395546",
   "metadata": {},
   "source": [
    "# 16. What is the procedure for making a normal expression in regax case insensitive?"
   ]
  },
  {
   "cell_type": "markdown",
   "id": "2c960a30",
   "metadata": {},
   "source": [
    "Passing re.I or re.IGNORECASE as the second argument to re.compile() will make the matching case insensitive."
   ]
  },
  {
   "cell_type": "markdown",
   "id": "8d5ff8c1",
   "metadata": {},
   "source": [
    "# 17. What does the . character normally match? What does it match if re.DOTALL is passed as 2nd argument in re.compile()?"
   ]
  },
  {
   "cell_type": "markdown",
   "id": "77352f55",
   "metadata": {},
   "source": [
    "The . character normally matches any character except the newline character. If re.DOTALL is passed as the second argument to re.compile(), then the dot will also match newline characters."
   ]
  },
  {
   "cell_type": "markdown",
   "id": "9e404a43",
   "metadata": {},
   "source": [
    "# 18. If numReg = re.compile(r'\\d+'), what will numRegex.sub('X', '11 drummers, 10 pipers, five rings, 4 hen') return?"
   ]
  },
  {
   "cell_type": "markdown",
   "id": "8193682e",
   "metadata": {},
   "source": [
    "X drummers, X pipers, five rings, X hens'."
   ]
  },
  {
   "cell_type": "markdown",
   "id": "7a36a36f",
   "metadata": {},
   "source": [
    "# 19. What does passing re.VERBOSE as the 2nd argument to re.compile() allow to do?"
   ]
  },
  {
   "cell_type": "markdown",
   "id": "f380bb58",
   "metadata": {},
   "source": [
    "The re.VERBOSE argument allows you to add whitespace and comments to the string passed to re.compile()."
   ]
  },
  {
   "cell_type": "markdown",
   "id": "72c61146",
   "metadata": {},
   "source": [
    "# 20. How would you write a regex that match a number with comma for every three digits? It must match the given following:\n",
    "    \n",
    "'42'  \n",
    "'1,234'  \n",
    "'6,368,745'  \n",
    "but not the following:  \n",
    "'12,34,567' (which has only two digits between the commas)  \n",
    "'1234' (which lacks commas)  "
   ]
  },
  {
   "cell_type": "markdown",
   "id": "67020db1",
   "metadata": {},
   "source": [
    "re.compile(r'^\\d{1,3}(,\\d{3})*$') will create this regex, but other regex strings can produce a similar regular expression."
   ]
  },
  {
   "cell_type": "markdown",
   "id": "facd1fa4",
   "metadata": {},
   "source": [
    "# 21. How would you write a regex that matches the full name of someone whose last name is Watanabe? You can assume that the first name that comes before it will always be one word that begins with a capital letter. The regex must match the following:\n",
    "    \n",
    "'Haruto Watanabe'  \n",
    "'Alice Watanabe'   \n",
    "'RoboCop Watanabe'  \n",
    "but not the following:  \n",
    "'haruto Watanabe'  (where the first name is not capitalized)   \n",
    "'Mr. Watanabe' (where the preceding word has a nonletter character)  \n",
    "'Watanabe' (which has no first name)  \n",
    "'Haruto watanabe' (where Watanabe is not capitalized)  "
   ]
  },
  {
   "cell_type": "markdown",
   "id": "01a50ed4",
   "metadata": {},
   "source": [
    "re.compile(r'[A-Z][a-z]*\\sWatanabe')"
   ]
  },
  {
   "cell_type": "markdown",
   "id": "992c7b8c",
   "metadata": {},
   "source": [
    "# 22. How would you write a regex that matches a sentence where the first word is either Alice, Bob, or Carol; the second word is either eats, pets, or throws; the third word is apples, cats, or baseballs; and the sentence ends with a period? This regex should be case-insensitive. It must match the following:\n",
    "    \n",
    "'Alice eats apples.'   \n",
    "'Bob pets cats.'   \n",
    "'Carol throws baseballs.'   \n",
    "'Alice throws Apples.'   \n",
    "'BOB EATS CATS.'   \n",
    "but not the following:   \n",
    "'RoboCop eats apples.'   \n",
    "'ALICE THROWS FOOTBALLS.'   \n",
    "'Carol eats 7 cats.'   "
   ]
  },
  {
   "cell_type": "markdown",
   "id": "f918c90c",
   "metadata": {},
   "source": [
    "re.compile(r'(Alice|Bob|Carol)\\s(eats|pets|throws)\\s(apples|cats|baseballs)\\.', re.IGNORECASE)"
   ]
  }
 ],
 "metadata": {
  "kernelspec": {
   "display_name": "Python 3",
   "language": "python",
   "name": "python3"
  },
  "language_info": {
   "codemirror_mode": {
    "name": "ipython",
    "version": 3
   },
   "file_extension": ".py",
   "mimetype": "text/x-python",
   "name": "python",
   "nbconvert_exporter": "python",
   "pygments_lexer": "ipython3",
   "version": "3.8.5"
  }
 },
 "nbformat": 4,
 "nbformat_minor": 5
}
