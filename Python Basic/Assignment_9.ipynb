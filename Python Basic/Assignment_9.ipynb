{
 "cells": [
  {
   "cell_type": "markdown",
   "id": "bac1ef9d",
   "metadata": {},
   "source": [
    "# 1. To what does a relative path refer?"
   ]
  },
  {
   "cell_type": "markdown",
   "id": "9cff513f",
   "metadata": {},
   "source": [
    "A relative path in Python is a path that describes the location of a directory relative to the entry point where you run the Python script."
   ]
  },
  {
   "cell_type": "markdown",
   "id": "1cf4ba05",
   "metadata": {},
   "source": [
    "For example we run our python code in ~/home/all_projects/project_name/example.py."
   ]
  },
  {
   "cell_type": "markdown",
   "id": "a5b2f10e",
   "metadata": {},
   "source": [
    "# 2. What does an absolute path start with your operating system?"
   ]
  },
  {
   "cell_type": "markdown",
   "id": "0436989c",
   "metadata": {},
   "source": [
    "An absolute path is a path that contains the entire path to the file or directory that you need to access. This path will begin at the home directory of your computer and will end with the file or directory"
   ]
  },
  {
   "cell_type": "markdown",
   "id": "907db995",
   "metadata": {},
   "source": [
    "# 3. What do the functions os.getcwd() and os.chdir() do?"
   ]
  },
  {
   "cell_type": "markdown",
   "id": "f44c9a28",
   "metadata": {},
   "source": [
    "os.getcwd() method tells us the location of current working directory (CWD).\n",
    "\n",
    "os.chdir() method in Python used to change the current working directory to specified path. It takes only a single argument as new directory path."
   ]
  },
  {
   "cell_type": "markdown",
   "id": "a661a71a",
   "metadata": {},
   "source": [
    "# 4. What are the . and .. folders?"
   ]
  },
  {
   "cell_type": "markdown",
   "id": "4c0fd980",
   "metadata": {},
   "source": [
    "A single dot (.) means that the module or package referenced is in the same directory as the current location.  \n",
    "\n",
    "Two dots (..) mean that it is in the parent directory of the current location, in other words the directory above."
   ]
  },
  {
   "cell_type": "markdown",
   "id": "d4fef381",
   "metadata": {},
   "source": [
    "# 5. In C:\\bacon\\eggs\\spam.txt, which part is the dir name, and which part is the base name?"
   ]
  },
  {
   "cell_type": "markdown",
   "id": "28ce4999",
   "metadata": {},
   "source": [
    "Dir name is C:/\\bacon/\\eggs/, base name is spam.txt."
   ]
  },
  {
   "cell_type": "markdown",
   "id": "1a9e5866",
   "metadata": {},
   "source": [
    "# 6. What are the three “mode” arguments that can be passed to the open() function?"
   ]
  },
  {
   "cell_type": "markdown",
   "id": "8b92c5bb",
   "metadata": {},
   "source": [
    "Read mode: open('example.txt', 'r')  \n",
    "Write mode: open('example.txt', 'w')  \n",
    "Append mode: open('example.txt', 'a')."
   ]
  },
  {
   "cell_type": "markdown",
   "id": "4fd621a9",
   "metadata": {},
   "source": [
    "# 7. What happens if an existing file is opened in write mode?"
   ]
  },
  {
   "cell_type": "markdown",
   "id": "c50c953a",
   "metadata": {},
   "source": [
    "It will override the existing file and start from scratch just like when you overwrite a variable's value with a new value."
   ]
  },
  {
   "cell_type": "markdown",
   "id": "150d498f",
   "metadata": {},
   "source": [
    "# 8. How do you tell the difference between read() and readlines()?"
   ]
  },
  {
   "cell_type": "markdown",
   "id": "684ef566",
   "metadata": {},
   "source": [
    "read():- read() method returns the contents of a file as a single large string value.   \n",
    "\n",
    "readline():- readline() method get a list of string values from the file, one string for each line of text."
   ]
  },
  {
   "cell_type": "markdown",
   "id": "1cf9b9ab",
   "metadata": {},
   "source": [
    "# 9. What data structure does a shelf value resemble?"
   ]
  },
  {
   "cell_type": "markdown",
   "id": "0c52b8fe",
   "metadata": {},
   "source": [
    "A shelf value resemble dictionary data structure."
   ]
  }
 ],
 "metadata": {
  "kernelspec": {
   "display_name": "Python 3",
   "language": "python",
   "name": "python3"
  },
  "language_info": {
   "codemirror_mode": {
    "name": "ipython",
    "version": 3
   },
   "file_extension": ".py",
   "mimetype": "text/x-python",
   "name": "python",
   "nbconvert_exporter": "python",
   "pygments_lexer": "ipython3",
   "version": "3.8.5"
  }
 },
 "nbformat": 4,
 "nbformat_minor": 5
}
