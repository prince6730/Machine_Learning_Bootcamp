{
 "cells": [
  {
   "cell_type": "markdown",
   "id": "a9e5fa34",
   "metadata": {},
   "source": [
    "#### 1. Write a Python Program to Find LCM ?"
   ]
  },
  {
   "cell_type": "code",
   "execution_count": 1,
   "id": "d6ae677f",
   "metadata": {},
   "outputs": [
    {
     "name": "stdout",
     "output_type": "stream",
     "text": [
      "Enter the first number: 46\n",
      "Enter the second number: 78\n",
      "The LCM of 46 and 78 is 1794\n"
     ]
    }
   ],
   "source": [
    "a = int(input('Enter the first number: '))\n",
    "b = int(input('Enter the second number: '))\n",
    "\n",
    "maxNum = max(a,b)\n",
    "\n",
    "while True:\n",
    "    if (maxNum % a == 0 and maxNum % b == 0):\n",
    "        break\n",
    "    maxNum = maxNum + 1\n",
    "    \n",
    "print(f'The LCM of {a} and {b} is {maxNum}')"
   ]
  },
  {
   "cell_type": "markdown",
   "id": "b503bd2c",
   "metadata": {},
   "source": [
    "#### 2. Write a Python Program to Find HCF ?"
   ]
  },
  {
   "cell_type": "code",
   "execution_count": 2,
   "id": "4be55c9f",
   "metadata": {},
   "outputs": [
    {
     "name": "stdout",
     "output_type": "stream",
     "text": [
      "Enter the first number: 4\n",
      "Enter the second number: 28\n",
      "The HCF of 4 and 28 is 4\n"
     ]
    }
   ],
   "source": [
    "num1 = int(input('Enter the first number: '))\n",
    "num2 = int(input('Enter the second number: '))\n",
    "\n",
    "if num2 > num1:\n",
    "    mn = num1\n",
    "else:\n",
    "    mn = num2\n",
    "    \n",
    "for i in range(1, mn + 1):\n",
    "    if num1 % i == 0 and num2 % i == 0:\n",
    "        hcf = i\n",
    "        \n",
    "print(f'The HCF of {num1} and {num2} is {hcf}')"
   ]
  },
  {
   "cell_type": "markdown",
   "id": "fc127269",
   "metadata": {},
   "source": [
    "#### 3. Write a Python Program to Convert Decimal to Binary, Octal and Hexadecimal ?"
   ]
  },
  {
   "cell_type": "code",
   "execution_count": 3,
   "id": "05c96ab3",
   "metadata": {},
   "outputs": [
    {
     "name": "stdout",
     "output_type": "stream",
     "text": [
      "Enter the number: 12\n",
      "Conversion of decimal number in:\n",
      "      \n",
      "0b1100 in decimal \n",
      "\n",
      "0o14 in octal \n",
      "\n",
      "0xc in hexa\n"
     ]
    }
   ],
   "source": [
    "decimal_num = int(input('Enter the number: '))\n",
    "\n",
    "print(f'''Conversion of decimal number in:\n",
    "      \n",
    "{bin(decimal_num)} in decimal \\n\n",
    "{oct(decimal_num)} in octal \\n\n",
    "{hex(decimal_num)} in hexa''')"
   ]
  },
  {
   "cell_type": "markdown",
   "id": "a9ad3f5c",
   "metadata": {},
   "source": [
    "#### 4. Write a Python Program To Find ASCII value of a character ?"
   ]
  },
  {
   "cell_type": "code",
   "execution_count": 4,
   "id": "da8858bd",
   "metadata": {},
   "outputs": [
    {
     "name": "stdout",
     "output_type": "stream",
     "text": [
      "Enter your character:A\n",
      "The ASCII value of A is 65\n"
     ]
    }
   ],
   "source": [
    "char = input('Enter your character:')\n",
    "\n",
    "print(f'The ASCII value of {char} is {ord(char)}')"
   ]
  },
  {
   "cell_type": "markdown",
   "id": "db2100be",
   "metadata": {},
   "source": [
    "#### 5. Write a Python Program to Make a Simple Calculator with 4 basic mathematical operations ?"
   ]
  },
  {
   "cell_type": "code",
   "execution_count": 5,
   "id": "3fbd8806",
   "metadata": {},
   "outputs": [
    {
     "name": "stdout",
     "output_type": "stream",
     "text": [
      "Please select the below operation.\n",
      "1. Add\n",
      "2. Subtract\n",
      "3. Multiply\n",
      "4. Divide\n",
      "Please enter your choice (1, 2, 3, 4): 1\n",
      "Please enter the first number: 25\n",
      "Please enter the second number: 25\n",
      "The addition of 25 + 25 is 50\n"
     ]
    }
   ],
   "source": [
    "def addition(num1, num2):\n",
    "    return num1 + num2  \n",
    "\n",
    "def subtract(num1, num2):\n",
    "    return num1 - num2  \n",
    "\n",
    "def multiplication(num1, num2):\n",
    "    return num1 * num2  \n",
    "\n",
    "def divide(num1, num2):\n",
    "    return num1 / num2  \n",
    " \n",
    "print (\"Please select the below operation.\")    \n",
    "print (\"1. Add\")    \n",
    "print (\"2. Subtract\")    \n",
    "print (\"3. Multiply\")    \n",
    "print (\"4. Divide\")    \n",
    "    \n",
    "choice = input(\"Please enter your choice (1, 2, 3, 4): \")    \n",
    "    \n",
    "n1 = int (input (\"Please enter the first number: \"))    \n",
    "n2 = int (input (\"Please enter the second number: \"))    \n",
    "    \n",
    "if choice == '1':\n",
    "    print(f'The addition of {n1} + {n2} is {addition(n1, n2)}')\n",
    "    \n",
    "elif choice == '2':\n",
    "    print(f'The subtraction of {n1} - {n2} is {subtract(n1, n2)}')   \n",
    "    \n",
    "elif choice == '3':\n",
    "    print(f'The multiplication of {n1} * {n2} is {multiplication(n1, n2)}')   \n",
    "    \n",
    "elif choice == '4':\n",
    "    print(f'The division of {n1} / {n2} is {divide(n1, n2)}')   \n",
    "    \n",
    "else:    \n",
    "    print(\"This is an invalid input\")    "
   ]
  }
 ],
 "metadata": {
  "kernelspec": {
   "display_name": "Python 3 (ipykernel)",
   "language": "python",
   "name": "python3"
  },
  "language_info": {
   "codemirror_mode": {
    "name": "ipython",
    "version": 3
   },
   "file_extension": ".py",
   "mimetype": "text/x-python",
   "name": "python",
   "nbconvert_exporter": "python",
   "pygments_lexer": "ipython3",
   "version": "3.11.5"
  }
 },
 "nbformat": 4,
 "nbformat_minor": 5
}
