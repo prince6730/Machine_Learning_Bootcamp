{
 "cells": [
  {
   "cell_type": "markdown",
   "id": "23e3af09",
   "metadata": {},
   "source": [
    "# 1. What is the name of the feature responsible for generating Regex objects?"
   ]
  },
  {
   "cell_type": "markdown",
   "id": "ca637a3b",
   "metadata": {},
   "source": [
    "The re.compile() function returns Regex objects."
   ]
  },
  {
   "cell_type": "markdown",
   "id": "ef71471f",
   "metadata": {},
   "source": [
    "# 2. Why do raw strings often appear in Regex objects?"
   ]
  },
  {
   "cell_type": "markdown",
   "id": "98551a26",
   "metadata": {},
   "source": [
    "Beacuse raw strings are used so that backslashes do not have to be escaped."
   ]
  },
  {
   "cell_type": "markdown",
   "id": "f47270fa",
   "metadata": {},
   "source": [
    "# 3. What is the return value of the search() method?"
   ]
  },
  {
   "cell_type": "code",
   "execution_count": 1,
   "id": "ae4987bb",
   "metadata": {},
   "outputs": [
    {
     "ename": "SyntaxError",
     "evalue": "invalid syntax (<ipython-input-1-00c60745a826>, line 1)",
     "output_type": "error",
     "traceback": [
      "\u001b[1;36m  File \u001b[1;32m\"<ipython-input-1-00c60745a826>\"\u001b[1;36m, line \u001b[1;32m1\u001b[0m\n\u001b[1;33m    The search() method returns Match objects.\u001b[0m\n\u001b[1;37m        ^\u001b[0m\n\u001b[1;31mSyntaxError\u001b[0m\u001b[1;31m:\u001b[0m invalid syntax\n"
     ]
    }
   ],
   "source": [
    "The search() method returns Match objects."
   ]
  },
  {
   "cell_type": "markdown",
   "id": "9f3b171c",
   "metadata": {},
   "source": [
    "# 4. From a Match item, how do you get the actual strings that match the pattern?"
   ]
  },
  {
   "cell_type": "markdown",
   "id": "bc65e0f8",
   "metadata": {},
   "source": [
    "The group() method returns strings of the matched text."
   ]
  },
  {
   "cell_type": "markdown",
   "id": "aa73b3e7",
   "metadata": {},
   "source": [
    "# 5. In the regex which created from the r's(\\d\\d\\d)-(\\d\\d\\d-\\d\\d\\d\\d)', what does group zero cover? Group 2? Group 1?"
   ]
  },
  {
   "cell_type": "markdown",
   "id": "d2abc57f",
   "metadata": {},
   "source": [
    "Group 0 is the entire match, group 1 covers the first set of parentheses, and group 2 covers the second set of parentheses."
   ]
  },
  {
   "cell_type": "markdown",
   "id": "2761e7e7",
   "metadata": {},
   "source": [
    "# 6. In standard expression syntax, parentheses and intervals have distinct meanings. How can you tell a regex that you want it to fit real parentheses and periods?"
   ]
  },
  {
   "cell_type": "raw",
   "id": "943d3e1b",
   "metadata": {},
   "source": [
    "Periods and parentheses can be escaped with a backslash:   \n",
    "\\.,         \n",
    "\\(, and \\)."
   ]
  },
  {
   "cell_type": "markdown",
   "id": "e12d7c3e",
   "metadata": {},
   "source": [
    "# 7. The findall() method returns a string list or a list of string tuples. What causes it to return one of the two options?"
   ]
  },
  {
   "cell_type": "markdown",
   "id": "b9a0890c",
   "metadata": {},
   "source": [
    "If the regex has no groups, a list of strings is returned. If the regex has groups, a list of tuples of strings is returned."
   ]
  },
  {
   "cell_type": "markdown",
   "id": "9d7b260c",
   "metadata": {},
   "source": [
    "# 8. In standard expressions, what does the | character mean?"
   ]
  },
  {
   "cell_type": "markdown",
   "id": "a19ff56a",
   "metadata": {},
   "source": [
    "This (|) character reprents signifies matching \"either, or\" between two groups."
   ]
  },
  {
   "cell_type": "markdown",
   "id": "f527ac6d",
   "metadata": {},
   "source": [
    "# 9. In regular expressions, what does the character stand for?"
   ]
  },
  {
   "cell_type": "markdown",
   "id": "bea56bd0",
   "metadata": {},
   "source": [
    "All characters in regex except those having special meaning in regex, matches themselves. E.g., the regex x matches substring \"x\"; regex 9 matches \"9\"; regex = matches \"=\"; and regex @ matches \"@\"."
   ]
  },
  {
   "cell_type": "markdown",
   "id": "beadac7b",
   "metadata": {},
   "source": [
    "# 10.In regular expressions, what is the difference between the + and * characters?"
   ]
  },
  {
   "cell_type": "markdown",
   "id": "1dc17e0e",
   "metadata": {},
   "source": [
    "The + matches one or more.\n",
    "\n",
    "Example:- [0-9]+ matches one or more digits such as '123', '000'.   \n",
    "    \n",
    "The * matches zero or more.\n",
    "\n",
    "Example:- [0-9]* matches zero or more digits. It accepts all those in [0-9]+ plus the empty string."
   ]
  },
  {
   "cell_type": "markdown",
   "id": "80984698",
   "metadata": {},
   "source": [
    "# 11. What is the difference between {4} and {4,5} in regular expression?"
   ]
  },
  {
   "cell_type": "markdown",
   "id": "2db99453",
   "metadata": {},
   "source": [
    "The {4} matches exactly four instances of the preceding group. The {4,5} matches between four and five instances."
   ]
  },
  {
   "cell_type": "markdown",
   "id": "f00856f5",
   "metadata": {},
   "source": [
    "# 12. What do you mean by the \\d, \\w, and \\s shorthand character classes signify in regular expressions?"
   ]
  },
  {
   "cell_type": "markdown",
   "id": "7d093f59",
   "metadata": {},
   "source": [
    "\\d :- It matches any digit character between [0-9].   \n",
    "\\w :- It matches any word character between [a-z0-9_].   \n",
    "\\s :- It matches any space character between [\\t\\f]."
   ]
  },
  {
   "cell_type": "markdown",
   "id": "1d94cf9f",
   "metadata": {},
   "source": [
    "# 13. What do means by \\D, \\W, and \\S shorthand character classes signify in regular expressions?"
   ]
  },
  {
   "cell_type": "markdown",
   "id": "8292fe96",
   "metadata": {},
   "source": [
    "\\D :- It matches any non-digit character between [0-9].   \n",
    "\\W :- It matches any non-word character between [A-Z0-9_].   \n",
    "\\S :- It matches any non-space character between [\\n\\r]."
   ]
  },
  {
   "cell_type": "markdown",
   "id": "cbc5e69a",
   "metadata": {},
   "source": [
    "# 14. What is the difference between .*? and .*?"
   ]
  },
  {
   "cell_type": "markdown",
   "id": "594b2236",
   "metadata": {},
   "source": [
    "The . performs a greedy match, and the .? performs a nongreedy match."
   ]
  },
  {
   "cell_type": "markdown",
   "id": "6fd9da6e",
   "metadata": {},
   "source": [
    "# 15. What is the syntax for matching both numbers and lowercase letters with a character class?"
   ]
  },
  {
   "cell_type": "markdown",
   "id": "24f1c4a8",
   "metadata": {},
   "source": [
    "It is either [0-9a-z] or [a-z0-9]."
   ]
  },
  {
   "cell_type": "markdown",
   "id": "328a4eff",
   "metadata": {},
   "source": [
    "# 16. What is the procedure for making a normal expression in regax case insensitive?"
   ]
  },
  {
   "cell_type": "markdown",
   "id": "d0a12eb6",
   "metadata": {},
   "source": [
    "Passing re.I or re.IGNORECASE as the second argument to re.compile() will make the matching case insensitive."
   ]
  },
  {
   "cell_type": "markdown",
   "id": "b8d961d4",
   "metadata": {},
   "source": [
    "# 17. What does the . character normally match? What does it match if re.DOTALL is passed as 2nd argument in re.compile()?"
   ]
  },
  {
   "cell_type": "markdown",
   "id": "46611406",
   "metadata": {},
   "source": [
    "The . character normally matches any character except the newline character. If re.DOTALL is passed as the second argument to re.compile(), then the dot will also match newline characters."
   ]
  },
  {
   "cell_type": "markdown",
   "id": "dcb509c6",
   "metadata": {},
   "source": [
    "# 18. If numReg = re.compile(r'\\d+'), what will numRegex.sub('X', '11 drummers, 10 pipers, five rings, 4 hen') return?"
   ]
  },
  {
   "cell_type": "markdown",
   "id": "7fcd438c",
   "metadata": {},
   "source": [
    "X drummers, X pipers, five rings, X hens'."
   ]
  },
  {
   "cell_type": "markdown",
   "id": "397c0909",
   "metadata": {},
   "source": [
    "# 19. What does passing re.VERBOSE as the 2nd argument to re.compile() allow to do?"
   ]
  },
  {
   "cell_type": "markdown",
   "id": "ac9621eb",
   "metadata": {},
   "source": [
    "The re.VERBOSE argument allows you to add whitespace and comments to the string passed to re.compile()."
   ]
  },
  {
   "cell_type": "markdown",
   "id": "58c021d0",
   "metadata": {},
   "source": [
    "# 20. How would you write a regex that match a number with comma for every three digits? It must match the given following:\n",
    "    \n",
    "'42'  \n",
    "'1,234'  \n",
    "'6,368,745'  \n",
    "but not the following:  \n",
    "'12,34,567' (which has only two digits between the commas)  \n",
    "'1234' (which lacks commas)  "
   ]
  },
  {
   "cell_type": "markdown",
   "id": "eb7eebfa",
   "metadata": {},
   "source": [
    "re.compile(r'^\\d{1,3}(,\\d{3})*$') will create this regex, but other regex strings can produce a similar regular expression."
   ]
  },
  {
   "cell_type": "markdown",
   "id": "933abb92",
   "metadata": {},
   "source": [
    "# 21. How would you write a regex that matches the full name of someone whose last name is Watanabe? You can assume that the first name that comes before it will always be one word that begins with a capital letter. The regex must match the following:\n",
    "    \n",
    "'Haruto Watanabe'  \n",
    "'Alice Watanabe'   \n",
    "'RoboCop Watanabe'  \n",
    "but not the following:  \n",
    "'haruto Watanabe'  (where the first name is not capitalized)   \n",
    "'Mr. Watanabe' (where the preceding word has a nonletter character)  \n",
    "'Watanabe' (which has no first name)  \n",
    "'Haruto watanabe' (where Watanabe is not capitalized)  "
   ]
  },
  {
   "cell_type": "markdown",
   "id": "03b2a3e3",
   "metadata": {},
   "source": [
    "re.compile(r'[A-Z][a-z]*\\sWatanabe')"
   ]
  },
  {
   "cell_type": "markdown",
   "id": "d869b953",
   "metadata": {},
   "source": [
    "# 22. How would you write a regex that matches a sentence where the first word is either Alice, Bob, or Carol; the second word is either eats, pets, or throws; the third word is apples, cats, or baseballs; and the sentence ends with a period? This regex should be case-insensitive. It must match the following:\n",
    "    \n",
    "'Alice eats apples.'   \n",
    "'Bob pets cats.'   \n",
    "'Carol throws baseballs.'   \n",
    "'Alice throws Apples.'   \n",
    "'BOB EATS CATS.'   \n",
    "but not the following:   \n",
    "'RoboCop eats apples.'   \n",
    "'ALICE THROWS FOOTBALLS.'   \n",
    "'Carol eats 7 cats.'   "
   ]
  },
  {
   "cell_type": "markdown",
   "id": "44ecd992",
   "metadata": {},
   "source": [
    "re.compile(r'(Alice|Bob|Carol)\\s(eats|pets|throws)\\s(apples|cats|baseballs)\\.', re.IGNORECASE)"
   ]
  }
 ],
 "metadata": {
  "kernelspec": {
   "display_name": "Python 3",
   "language": "python",
   "name": "python3"
  },
  "language_info": {
   "codemirror_mode": {
    "name": "ipython",
    "version": 3
   },
   "file_extension": ".py",
   "mimetype": "text/x-python",
   "name": "python",
   "nbconvert_exporter": "python",
   "pygments_lexer": "ipython3",
   "version": "3.8.5"
  }
 },
 "nbformat": 4,
 "nbformat_minor": 5
}
